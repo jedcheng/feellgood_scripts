{
  "nbformat": 4,
  "nbformat_minor": 0,
  "metadata": {
    "colab": {
      "provenance": [],
      "machine_shape": "hm",
      "authorship_tag": "ABX9TyN9KXVe3jLrvEZ3T4nbSYEL",
      "include_colab_link": true
    },
    "kernelspec": {
      "name": "python3",
      "display_name": "Python 3"
    },
    "language_info": {
      "name": "python"
    },
    "gpuClass": "standard"
  },
  "cells": [
    {
      "cell_type": "markdown",
      "metadata": {
        "id": "view-in-github",
        "colab_type": "text"
      },
      "source": [
        "<a href=\"https://colab.research.google.com/github/jedcheng/feellgood_scripts/blob/main/FEELLGOOD.ipynb\" target=\"_parent\"><img src=\"https://colab.research.google.com/assets/colab-badge.svg\" alt=\"Open In Colab\"/></a>"
      ]
    },
    {
      "cell_type": "code",
      "source": [
        "!sudo apt-get update\n",
        "!sudo apt-get install unzip make cmake git g++ libtbb-dev libyaml-cpp-dev"
      ],
      "metadata": {
        "id": "pDdAChw_Dt69"
      },
      "execution_count": null,
      "outputs": []
    },
    {
      "cell_type": "code",
      "source": [
        "!wget https://github.com/jedcheng/feellgood_scripts/raw/main/feellgood\n",
        "!chmod -R 777 feellgood"
      ],
      "metadata": {
        "colab": {
          "base_uri": "https://localhost:8080/"
        },
        "id": "gOwGBtqLEU6l",
        "outputId": "b4cdeb73-7217-46a7-dc5b-922920d29f10"
      },
      "execution_count": 3,
      "outputs": [
        {
          "output_type": "stream",
          "name": "stdout",
          "text": [
            "--2023-05-08 15:53:30--  https://github.com/jedcheng/FeeLLGood/raw/master/feellgood\n",
            "Resolving github.com (github.com)... 140.82.112.4\n",
            "Connecting to github.com (github.com)|140.82.112.4|:443... connected.\n",
            "HTTP request sent, awaiting response... 302 Found\n",
            "Location: https://raw.githubusercontent.com/jedcheng/FeeLLGood/master/feellgood [following]\n",
            "--2023-05-08 15:53:30--  https://raw.githubusercontent.com/jedcheng/FeeLLGood/master/feellgood\n",
            "Resolving raw.githubusercontent.com (raw.githubusercontent.com)... 185.199.108.133, 185.199.109.133, 185.199.110.133, ...\n",
            "Connecting to raw.githubusercontent.com (raw.githubusercontent.com)|185.199.108.133|:443... connected.\n",
            "HTTP request sent, awaiting response... 200 OK\n",
            "Length: 12319352 (12M) [application/octet-stream]\n",
            "Saving to: ‘feellgood’\n",
            "\n",
            "feellgood           100%[===================>]  11.75M  --.-KB/s    in 0.1s    \n",
            "\n",
            "2023-05-08 15:53:32 (89.8 MB/s) - ‘feellgood’ saved [12319352/12319352]\n",
            "\n"
          ]
        }
      ]
    },
    {
      "cell_type": "code",
      "execution_count": null,
      "metadata": {
        "id": "ZCtB4jR2C4Sq"
      },
      "outputs": [],
      "source": [
        "!./feellgood settings.yml"
      ]
    },
    {
      "cell_type": "code",
      "source": [],
      "metadata": {
        "id": "-oNUUbbuDPUo"
      },
      "execution_count": null,
      "outputs": []
    }
  ]
}