{
  "nbformat": 4,
  "nbformat_minor": 0,
  "metadata": {
    "colab": {
      "provenance": [],
      "machine_shape": "hm",
      "authorship_tag": "ABX9TyMgrL6ItpEIdxQZ2OVcV0kX",
      "include_colab_link": true
    },
    "kernelspec": {
      "name": "python3",
      "display_name": "Python 3"
    },
    "language_info": {
      "name": "python"
    },
    "gpuClass": "standard"
  },
  "cells": [
    {
      "cell_type": "markdown",
      "metadata": {
        "id": "view-in-github",
        "colab_type": "text"
      },
      "source": [
        "<a href=\"https://colab.research.google.com/github/jedcheng/feellgood_scripts/blob/main/cylinder.ipynb\" target=\"_parent\"><img src=\"https://colab.research.google.com/assets/colab-badge.svg\" alt=\"Open In Colab\"/></a>"
      ]
    },
    {
      "cell_type": "markdown",
      "source": [
        "Install the library needed "
      ],
      "metadata": {
        "id": "TDmbJbCFLuIQ"
      }
    },
    {
      "cell_type": "code",
      "source": [
        "!sudo apt-get update\n",
        "!sudo apt-get install unzip make cmake git g++ libtbb-dev libyaml-cpp-dev"
      ],
      "metadata": {
        "id": "pDdAChw_Dt69"
      },
      "execution_count": null,
      "outputs": []
    },
    {
      "cell_type": "markdown",
      "source": [
        "Download my pre-compiled binary"
      ],
      "metadata": {
        "id": "qL9qATA3LwIm"
      }
    },
    {
      "cell_type": "code",
      "source": [
        "!wget https://github.com/jedcheng/feellgood_scripts/raw/main/feellgood\n",
        "!chmod -R 777 feellgood"
      ],
      "metadata": {
        "id": "gOwGBtqLEU6l"
      },
      "execution_count": null,
      "outputs": []
    },
    {
      "cell_type": "markdown",
      "source": [
        "I created a cylinder (10nm thick, 100nm radius, cell size 4nm) using the tools in the FEELLGOOD repo \n",
        "\n"
      ],
      "metadata": {
        "id": "8rf3ucLSKgjg"
      }
    },
    {
      "cell_type": "code",
      "source": [
        "!wget https://github.com/jedcheng/feellgood_scripts/raw/main/cylinder.msh"
      ],
      "metadata": {
        "colab": {
          "base_uri": "https://localhost:8080/"
        },
        "id": "HwrvcdxS8yjc",
        "outputId": "e8147fca-ef46-4ea5-aa85-f9c22f02158e"
      },
      "execution_count": null,
      "outputs": [
        {
          "output_type": "stream",
          "name": "stdout",
          "text": [
            "--2023-05-09 23:57:08--  https://github.com/jedcheng/feellgood_scripts/raw/main/cylinder.msh\n",
            "Resolving github.com (github.com)... 140.82.112.3\n",
            "Connecting to github.com (github.com)|140.82.112.3|:443... connected.\n",
            "HTTP request sent, awaiting response... 302 Found\n",
            "Location: https://raw.githubusercontent.com/jedcheng/feellgood_scripts/main/cylinder.msh [following]\n",
            "--2023-05-09 23:57:08--  https://raw.githubusercontent.com/jedcheng/feellgood_scripts/main/cylinder.msh\n",
            "Resolving raw.githubusercontent.com (raw.githubusercontent.com)... 185.199.108.133, 185.199.109.133, 185.199.110.133, ...\n",
            "Connecting to raw.githubusercontent.com (raw.githubusercontent.com)|185.199.108.133|:443... connected.\n",
            "HTTP request sent, awaiting response... 200 OK\n",
            "Length: 1538773 (1.5M) [text/plain]\n",
            "Saving to: ‘cylinder.msh.1’\n",
            "\n",
            "cylinder.msh.1      100%[===================>]   1.47M  --.-KB/s    in 0.01s   \n",
            "\n",
            "2023-05-09 23:57:09 (152 MB/s) - ‘cylinder.msh.1’ saved [1538773/1538773]\n",
            "\n"
          ]
        }
      ]
    },
    {
      "cell_type": "code",
      "source": [
        "import os \n",
        "import pandas as pd\n",
        "import numpy as np\n",
        "from matplotlib import pyplot as plt\n",
        "\n",
        "\n",
        "from scipy.interpolate import interp1d\n",
        "from scipy.fft import fft, fftfreq\n",
        "\n",
        "%config InlineBackend.figure_format = 'svg'\n"
      ],
      "metadata": {
        "id": "7xrHUQ3C8_0e"
      },
      "execution_count": 171,
      "outputs": []
    },
    {
      "cell_type": "code",
      "source": [
        "# the output file from feellgood is a bit weird \n",
        "# but they are just csv\n",
        "\n",
        "def remove_first_n_lines_and_write_to_file(csv_file, n, output_file):\n",
        "  \"\"\"Removes the first n lines of a CSV file and writes the output to a new file.\n",
        "\n",
        "  Args:\n",
        "    csv_file: The path to the CSV file.\n",
        "    n: The number of lines to remove.\n",
        "    output_file: The path to the output file.\n",
        "  \"\"\"\n",
        "\n",
        "  with open(csv_file, 'r') as f:\n",
        "    data = f.readlines()\n",
        "\n",
        "  with open(output_file, 'w') as out:\n",
        "    out.write(\"t\t<Mx>\t<My>\t<Mz>\tE_ex\tE_demag\tE_zeeman\tE_tot\\n\")\n",
        "    for line in data[n:]:\n",
        "      out.write(line)"
      ],
      "metadata": {
        "id": "f7axzsqjHDSb"
      },
      "execution_count": null,
      "outputs": []
    },
    {
      "cell_type": "markdown",
      "source": [
        "Define the function to analyze the data"
      ],
      "metadata": {
        "id": "MqEqd-2CL2i0"
      }
    },
    {
      "cell_type": "code",
      "source": [
        "def main(title):\n",
        "  remove_first_n_lines_and_write_to_file(\"output/cylinder.evol\", 5, \"output.csv\")\n",
        "\n",
        "  df = pd.read_csv(\"output.csv\", sep=\"\\t\")\n",
        "\n",
        "  my_0 = df[\"<My>\"].to_numpy()\n",
        "  t0 = df[\"t\"].to_numpy()\n",
        "\n",
        "  f = interp1d(t0, my_0, \"linear\")\n",
        "\n",
        "  t = np.arange(0, t0[-1], (t0[1] - t0[0]))\n",
        "  my = f(t)\n",
        "\n",
        "  plt.plot(t, my)\n",
        "  plt.xlabel('t')\n",
        "  plt.ylabel('m_y')\n",
        "  plt.show()\n",
        "\n",
        "  xf = fftfreq(len(t), t[1]-t[0])\n",
        "  yf = fft(my)\n",
        "\n",
        "  peak = xf[np.argmax(np.abs(yf[1:]))+1]/1e9\n",
        "  peak_amp = np.abs(yf[np.argmax(np.abs(yf[1:]))+1])\n",
        "  plt.plot(xf, np.abs(yf))\n",
        "  plt.xlim(0, 20e9)\n",
        "  plt.ylim(0, peak_amp*1.1)\n",
        "  plt.xlabel(\"freqeuency (10GHz)\")\n",
        "  plt.ylabel(\"amplitude (a.u.)\")\n",
        "  plt.title(title)\n",
        "  plt.show()\n",
        "  print(peak)\n",
        "  return "
      ],
      "metadata": {
        "id": "cAgi3gSHL10g"
      },
      "execution_count": 249,
      "outputs": []
    },
    {
      "cell_type": "code",
      "source": [
        "!mkdir output"
      ],
      "metadata": {
        "id": "tQqMa3BPHLDJ"
      },
      "execution_count": null,
      "outputs": []
    },
    {
      "cell_type": "code",
      "source": [
        "template = \"\"\"\n",
        "outputs:\n",
        "  final_time: 50e-9      # simulation time\n",
        "  directory: output\n",
        "  evol_time_step: 5e-13\n",
        "\n",
        "mesh:\n",
        "  filename: cylinder.msh\n",
        "  scaling_factor: 1e-9  # mesh unit is nanometers\n",
        "  volume_regions:\n",
        "    volume:             # high-damping permalloy\n",
        "      Ae: 1.07e-11         # exchange constant\n",
        "      Js: 1             # µ₀Ms\n",
        "      alpha_LLG: 0.01   # Gilbert damping\n",
        "  surface_regions:\n",
        "    surface:\n",
        "\n",
        "initial_magnetization: [0.98, 0.02, 0]  \n",
        "\n",
        "\"\"\""
      ],
      "metadata": {
        "id": "J9IXurmo81zH"
      },
      "execution_count": 235,
      "outputs": []
    },
    {
      "cell_type": "markdown",
      "source": [
        "Run a sine pulse"
      ],
      "metadata": {
        "id": "gcR5LogRG9Ef"
      }
    },
    {
      "cell_type": "code",
      "source": [
        "freq = 2.4\n",
        "with open(\"settings.yml\", \"w\") as f:\n",
        "    f.write(template)\n",
        "    f.write(f\"Bext: [1*sin(2*3.14*{freq}e9*t), 1*sin(2*3.14*{freq}e9*t), 1*sin(2*3.14*{freq}e9*t)]\")\n",
        "\n"
      ],
      "metadata": {
        "id": "T6U2CojA8-J_"
      },
      "execution_count": null,
      "outputs": []
    },
    {
      "cell_type": "markdown",
      "source": [
        "Run a sinc pulse"
      ],
      "metadata": {
        "id": "zZm3bAQvG_qA"
      }
    },
    {
      "cell_type": "code",
      "source": [
        "with open(\"settings.yml\", \"w\") as f:\n",
        "    freq = 25\n",
        "    amp = 0.2\n",
        "    f.write(template)\n",
        "    f.write(f\"Bext: [{amp}*sinc(2*3.14*{freq}e9*t), {amp}*sinc(2*3.14*{freq}e9*t), {amp}*sinc(2*3.14*{freq}e9*t)]\")\n"
      ],
      "metadata": {
        "id": "XFfTyr5QDI_M"
      },
      "execution_count": 236,
      "outputs": []
    },
    {
      "cell_type": "markdown",
      "source": [
        "Use this to run FEELLGOOD if you don't have access to the colab terminal"
      ],
      "metadata": {
        "id": "Ap-Eaf95KrFk"
      }
    },
    {
      "cell_type": "code",
      "source": [
        "!./feellgood settings.yml"
      ],
      "metadata": {
        "id": "ziVNZFxBG3F5"
      },
      "execution_count": null,
      "outputs": []
    },
    {
      "cell_type": "code",
      "source": [
        "main(title=\"r=100nm h=10nm Cylinder\")"
      ],
      "metadata": {
        "colab": {
          "base_uri": "https://localhost:8080/",
          "height": 892
        },
        "id": "5osnDay_YHh2",
        "outputId": "def60c4d-5839-47bb-b18b-36c0f33b466b"
      },
      "execution_count": 250,
      "outputs": [
        {
          "output_type": "display_data",
          "data": {
            "text/plain": [
              "<Figure size 640x480 with 1 Axes>"
            ],
            "image/svg+xml": "<?xml version=\"1.0\" encoding=\"utf-8\" standalone=\"no\"?>\n<!DOCTYPE svg PUBLIC \"-//W3C//DTD SVG 1.1//EN\"\n  \"http://www.w3.org/Graphics/SVG/1.1/DTD/svg11.dtd\">\n<svg xmlns:xlink=\"http://www.w3.org/1999/xlink\" width=\"422.843437pt\" height=\"310.86825pt\" viewBox=\"0 0 422.843437 310.86825\" xmlns=\"http://www.w3.org/2000/svg\" version=\"1.1\">\n <metadata>\n  <rdf:RDF xmlns:dc=\"http://purl.org/dc/elements/1.1/\" xmlns:cc=\"http://creativecommons.org/ns#\" xmlns:rdf=\"http://www.w3.org/1999/02/22-rdf-syntax-ns#\">\n   <cc:Work>\n    <dc:type rdf:resource=\"http://purl.org/dc/dcmitype/StillImage\"/>\n    <dc:date>2023-05-10T12:18:26.081315</dc:date>\n    <dc:format>image/svg+xml</dc:format>\n    <dc:creator>\n     <cc:Agent>\n      <dc:title>Matplotlib v3.7.1, https://matplotlib.org/</dc:title>\n     </cc:Agent>\n    </dc:creator>\n   </cc:Work>\n  </rdf:RDF>\n </metadata>\n <defs>\n  <style type=\"text/css\">*{stroke-linejoin: round; stroke-linecap: butt}</style>\n </defs>\n <g id=\"figure_1\">\n  <g id=\"patch_1\">\n   <path d=\"M 0 310.86825 \nL 422.843437 310.86825 \nL 422.843437 0 \nL 0 0 \nz\n\" style=\"fill: #ffffff\"/>\n  </g>\n  <g id=\"axes_1\">\n   <g id=\"patch_2\">\n    <path d=\"M 58.523438 273.312 \nL 415.643438 273.312 \nL 415.643438 7.2 \nL 58.523438 7.2 \nz\n\" style=\"fill: #ffffff\"/>\n   </g>\n   <g id=\"matplotlib.axis_1\">\n    <g id=\"xtick_1\">\n     <g id=\"line2d_1\">\n      <defs>\n       <path id=\"m6289aabdd3\" d=\"M 0 0 \nL 0 3.5 \n\" style=\"stroke: #000000; stroke-width: 0.8\"/>\n      </defs>\n      <g>\n       <use xlink:href=\"#m6289aabdd3\" x=\"74.756165\" y=\"273.312\" style=\"stroke: #000000; stroke-width: 0.8\"/>\n      </g>\n     </g>\n     <g id=\"text_1\">\n      <!-- 0.0 -->\n      <g transform=\"translate(66.804602 287.910437) scale(0.1 -0.1)\">\n       <defs>\n        <path id=\"DejaVuSans-30\" d=\"M 2034 4250 \nQ 1547 4250 1301 3770 \nQ 1056 3291 1056 2328 \nQ 1056 1369 1301 889 \nQ 1547 409 2034 409 \nQ 2525 409 2770 889 \nQ 3016 1369 3016 2328 \nQ 3016 3291 2770 3770 \nQ 2525 4250 2034 4250 \nz\nM 2034 4750 \nQ 2819 4750 3233 4129 \nQ 3647 3509 3647 2328 \nQ 3647 1150 3233 529 \nQ 2819 -91 2034 -91 \nQ 1250 -91 836 529 \nQ 422 1150 422 2328 \nQ 422 3509 836 4129 \nQ 1250 4750 2034 4750 \nz\n\" transform=\"scale(0.015625)\"/>\n        <path id=\"DejaVuSans-2e\" d=\"M 684 794 \nL 1344 794 \nL 1344 0 \nL 684 0 \nL 684 794 \nz\n\" transform=\"scale(0.015625)\"/>\n       </defs>\n       <use xlink:href=\"#DejaVuSans-30\"/>\n       <use xlink:href=\"#DejaVuSans-2e\" x=\"63.623047\"/>\n       <use xlink:href=\"#DejaVuSans-30\" x=\"95.410156\"/>\n      </g>\n     </g>\n    </g>\n    <g id=\"xtick_2\">\n     <g id=\"line2d_2\">\n      <g>\n       <use xlink:href=\"#m6289aabdd3\" x=\"136.848225\" y=\"273.312\" style=\"stroke: #000000; stroke-width: 0.8\"/>\n      </g>\n     </g>\n     <g id=\"text_2\">\n      <!-- 0.5 -->\n      <g transform=\"translate(128.896662 287.910437) scale(0.1 -0.1)\">\n       <defs>\n        <path id=\"DejaVuSans-35\" d=\"M 691 4666 \nL 3169 4666 \nL 3169 4134 \nL 1269 4134 \nL 1269 2991 \nQ 1406 3038 1543 3061 \nQ 1681 3084 1819 3084 \nQ 2600 3084 3056 2656 \nQ 3513 2228 3513 1497 \nQ 3513 744 3044 326 \nQ 2575 -91 1722 -91 \nQ 1428 -91 1123 -41 \nQ 819 9 494 109 \nL 494 744 \nQ 775 591 1075 516 \nQ 1375 441 1709 441 \nQ 2250 441 2565 725 \nQ 2881 1009 2881 1497 \nQ 2881 1984 2565 2268 \nQ 2250 2553 1709 2553 \nQ 1456 2553 1204 2497 \nQ 953 2441 691 2322 \nL 691 4666 \nz\n\" transform=\"scale(0.015625)\"/>\n       </defs>\n       <use xlink:href=\"#DejaVuSans-30\"/>\n       <use xlink:href=\"#DejaVuSans-2e\" x=\"63.623047\"/>\n       <use xlink:href=\"#DejaVuSans-35\" x=\"95.410156\"/>\n      </g>\n     </g>\n    </g>\n    <g id=\"xtick_3\">\n     <g id=\"line2d_3\">\n      <g>\n       <use xlink:href=\"#m6289aabdd3\" x=\"198.940285\" y=\"273.312\" style=\"stroke: #000000; stroke-width: 0.8\"/>\n      </g>\n     </g>\n     <g id=\"text_3\">\n      <!-- 1.0 -->\n      <g transform=\"translate(190.988722 287.910437) scale(0.1 -0.1)\">\n       <defs>\n        <path id=\"DejaVuSans-31\" d=\"M 794 531 \nL 1825 531 \nL 1825 4091 \nL 703 3866 \nL 703 4441 \nL 1819 4666 \nL 2450 4666 \nL 2450 531 \nL 3481 531 \nL 3481 0 \nL 794 0 \nL 794 531 \nz\n\" transform=\"scale(0.015625)\"/>\n       </defs>\n       <use xlink:href=\"#DejaVuSans-31\"/>\n       <use xlink:href=\"#DejaVuSans-2e\" x=\"63.623047\"/>\n       <use xlink:href=\"#DejaVuSans-30\" x=\"95.410156\"/>\n      </g>\n     </g>\n    </g>\n    <g id=\"xtick_4\">\n     <g id=\"line2d_4\">\n      <g>\n       <use xlink:href=\"#m6289aabdd3\" x=\"261.032345\" y=\"273.312\" style=\"stroke: #000000; stroke-width: 0.8\"/>\n      </g>\n     </g>\n     <g id=\"text_4\">\n      <!-- 1.5 -->\n      <g transform=\"translate(253.080783 287.910437) scale(0.1 -0.1)\">\n       <use xlink:href=\"#DejaVuSans-31\"/>\n       <use xlink:href=\"#DejaVuSans-2e\" x=\"63.623047\"/>\n       <use xlink:href=\"#DejaVuSans-35\" x=\"95.410156\"/>\n      </g>\n     </g>\n    </g>\n    <g id=\"xtick_5\">\n     <g id=\"line2d_5\">\n      <g>\n       <use xlink:href=\"#m6289aabdd3\" x=\"323.124405\" y=\"273.312\" style=\"stroke: #000000; stroke-width: 0.8\"/>\n      </g>\n     </g>\n     <g id=\"text_5\">\n      <!-- 2.0 -->\n      <g transform=\"translate(315.172843 287.910437) scale(0.1 -0.1)\">\n       <defs>\n        <path id=\"DejaVuSans-32\" d=\"M 1228 531 \nL 3431 531 \nL 3431 0 \nL 469 0 \nL 469 531 \nQ 828 903 1448 1529 \nQ 2069 2156 2228 2338 \nQ 2531 2678 2651 2914 \nQ 2772 3150 2772 3378 \nQ 2772 3750 2511 3984 \nQ 2250 4219 1831 4219 \nQ 1534 4219 1204 4116 \nQ 875 4013 500 3803 \nL 500 4441 \nQ 881 4594 1212 4672 \nQ 1544 4750 1819 4750 \nQ 2544 4750 2975 4387 \nQ 3406 4025 3406 3419 \nQ 3406 3131 3298 2873 \nQ 3191 2616 2906 2266 \nQ 2828 2175 2409 1742 \nQ 1991 1309 1228 531 \nz\n\" transform=\"scale(0.015625)\"/>\n       </defs>\n       <use xlink:href=\"#DejaVuSans-32\"/>\n       <use xlink:href=\"#DejaVuSans-2e\" x=\"63.623047\"/>\n       <use xlink:href=\"#DejaVuSans-30\" x=\"95.410156\"/>\n      </g>\n     </g>\n    </g>\n    <g id=\"xtick_6\">\n     <g id=\"line2d_6\">\n      <g>\n       <use xlink:href=\"#m6289aabdd3\" x=\"385.216465\" y=\"273.312\" style=\"stroke: #000000; stroke-width: 0.8\"/>\n      </g>\n     </g>\n     <g id=\"text_6\">\n      <!-- 2.5 -->\n      <g transform=\"translate(377.264903 287.910437) scale(0.1 -0.1)\">\n       <use xlink:href=\"#DejaVuSans-32\"/>\n       <use xlink:href=\"#DejaVuSans-2e\" x=\"63.623047\"/>\n       <use xlink:href=\"#DejaVuSans-35\" x=\"95.410156\"/>\n      </g>\n     </g>\n    </g>\n    <g id=\"text_7\">\n     <!-- t -->\n     <g transform=\"translate(235.123281 301.588562) scale(0.1 -0.1)\">\n      <defs>\n       <path id=\"DejaVuSans-74\" d=\"M 1172 4494 \nL 1172 3500 \nL 2356 3500 \nL 2356 3053 \nL 1172 3053 \nL 1172 1153 \nQ 1172 725 1289 603 \nQ 1406 481 1766 481 \nL 2356 481 \nL 2356 0 \nL 1766 0 \nQ 1100 0 847 248 \nQ 594 497 594 1153 \nL 594 3053 \nL 172 3053 \nL 172 3500 \nL 594 3500 \nL 594 4494 \nL 1172 4494 \nz\n\" transform=\"scale(0.015625)\"/>\n      </defs>\n      <use xlink:href=\"#DejaVuSans-74\"/>\n     </g>\n    </g>\n    <g id=\"text_8\">\n     <!-- 1e−8 -->\n     <g transform=\"translate(388.385625 300.588562) scale(0.1 -0.1)\">\n      <defs>\n       <path id=\"DejaVuSans-65\" d=\"M 3597 1894 \nL 3597 1613 \nL 953 1613 \nQ 991 1019 1311 708 \nQ 1631 397 2203 397 \nQ 2534 397 2845 478 \nQ 3156 559 3463 722 \nL 3463 178 \nQ 3153 47 2828 -22 \nQ 2503 -91 2169 -91 \nQ 1331 -91 842 396 \nQ 353 884 353 1716 \nQ 353 2575 817 3079 \nQ 1281 3584 2069 3584 \nQ 2775 3584 3186 3129 \nQ 3597 2675 3597 1894 \nz\nM 3022 2063 \nQ 3016 2534 2758 2815 \nQ 2500 3097 2075 3097 \nQ 1594 3097 1305 2825 \nQ 1016 2553 972 2059 \nL 3022 2063 \nz\n\" transform=\"scale(0.015625)\"/>\n       <path id=\"DejaVuSans-2212\" d=\"M 678 2272 \nL 4684 2272 \nL 4684 1741 \nL 678 1741 \nL 678 2272 \nz\n\" transform=\"scale(0.015625)\"/>\n       <path id=\"DejaVuSans-38\" d=\"M 2034 2216 \nQ 1584 2216 1326 1975 \nQ 1069 1734 1069 1313 \nQ 1069 891 1326 650 \nQ 1584 409 2034 409 \nQ 2484 409 2743 651 \nQ 3003 894 3003 1313 \nQ 3003 1734 2745 1975 \nQ 2488 2216 2034 2216 \nz\nM 1403 2484 \nQ 997 2584 770 2862 \nQ 544 3141 544 3541 \nQ 544 4100 942 4425 \nQ 1341 4750 2034 4750 \nQ 2731 4750 3128 4425 \nQ 3525 4100 3525 3541 \nQ 3525 3141 3298 2862 \nQ 3072 2584 2669 2484 \nQ 3125 2378 3379 2068 \nQ 3634 1759 3634 1313 \nQ 3634 634 3220 271 \nQ 2806 -91 2034 -91 \nQ 1263 -91 848 271 \nQ 434 634 434 1313 \nQ 434 1759 690 2068 \nQ 947 2378 1403 2484 \nz\nM 1172 3481 \nQ 1172 3119 1398 2916 \nQ 1625 2713 2034 2713 \nQ 2441 2713 2670 2916 \nQ 2900 3119 2900 3481 \nQ 2900 3844 2670 4047 \nQ 2441 4250 2034 4250 \nQ 1625 4250 1398 4047 \nQ 1172 3844 1172 3481 \nz\n\" transform=\"scale(0.015625)\"/>\n      </defs>\n      <use xlink:href=\"#DejaVuSans-31\"/>\n      <use xlink:href=\"#DejaVuSans-65\" x=\"63.623047\"/>\n      <use xlink:href=\"#DejaVuSans-2212\" x=\"125.146484\"/>\n      <use xlink:href=\"#DejaVuSans-38\" x=\"208.935547\"/>\n     </g>\n    </g>\n   </g>\n   <g id=\"matplotlib.axis_2\">\n    <g id=\"ytick_1\">\n     <g id=\"line2d_7\">\n      <defs>\n       <path id=\"m38a1c20d8d\" d=\"M 0 0 \nL -3.5 0 \n\" style=\"stroke: #000000; stroke-width: 0.8\"/>\n      </defs>\n      <g>\n       <use xlink:href=\"#m38a1c20d8d\" x=\"58.523438\" y=\"266.449032\" style=\"stroke: #000000; stroke-width: 0.8\"/>\n      </g>\n     </g>\n     <g id=\"text_9\">\n      <!-- −1.00 -->\n      <g transform=\"translate(20.878125 270.248251) scale(0.1 -0.1)\">\n       <use xlink:href=\"#DejaVuSans-2212\"/>\n       <use xlink:href=\"#DejaVuSans-31\" x=\"83.789062\"/>\n       <use xlink:href=\"#DejaVuSans-2e\" x=\"147.412109\"/>\n       <use xlink:href=\"#DejaVuSans-30\" x=\"179.199219\"/>\n       <use xlink:href=\"#DejaVuSans-30\" x=\"242.822266\"/>\n      </g>\n     </g>\n    </g>\n    <g id=\"ytick_2\">\n     <g id=\"line2d_8\">\n      <g>\n       <use xlink:href=\"#m38a1c20d8d\" x=\"58.523438\" y=\"234.806559\" style=\"stroke: #000000; stroke-width: 0.8\"/>\n      </g>\n     </g>\n     <g id=\"text_10\">\n      <!-- −0.75 -->\n      <g transform=\"translate(20.878125 238.605777) scale(0.1 -0.1)\">\n       <defs>\n        <path id=\"DejaVuSans-37\" d=\"M 525 4666 \nL 3525 4666 \nL 3525 4397 \nL 1831 0 \nL 1172 0 \nL 2766 4134 \nL 525 4134 \nL 525 4666 \nz\n\" transform=\"scale(0.015625)\"/>\n       </defs>\n       <use xlink:href=\"#DejaVuSans-2212\"/>\n       <use xlink:href=\"#DejaVuSans-30\" x=\"83.789062\"/>\n       <use xlink:href=\"#DejaVuSans-2e\" x=\"147.412109\"/>\n       <use xlink:href=\"#DejaVuSans-37\" x=\"179.199219\"/>\n       <use xlink:href=\"#DejaVuSans-35\" x=\"242.822266\"/>\n      </g>\n     </g>\n    </g>\n    <g id=\"ytick_3\">\n     <g id=\"line2d_9\">\n      <g>\n       <use xlink:href=\"#m38a1c20d8d\" x=\"58.523438\" y=\"203.164085\" style=\"stroke: #000000; stroke-width: 0.8\"/>\n      </g>\n     </g>\n     <g id=\"text_11\">\n      <!-- −0.50 -->\n      <g transform=\"translate(20.878125 206.963304) scale(0.1 -0.1)\">\n       <use xlink:href=\"#DejaVuSans-2212\"/>\n       <use xlink:href=\"#DejaVuSans-30\" x=\"83.789062\"/>\n       <use xlink:href=\"#DejaVuSans-2e\" x=\"147.412109\"/>\n       <use xlink:href=\"#DejaVuSans-35\" x=\"179.199219\"/>\n       <use xlink:href=\"#DejaVuSans-30\" x=\"242.822266\"/>\n      </g>\n     </g>\n    </g>\n    <g id=\"ytick_4\">\n     <g id=\"line2d_10\">\n      <g>\n       <use xlink:href=\"#m38a1c20d8d\" x=\"58.523438\" y=\"171.521612\" style=\"stroke: #000000; stroke-width: 0.8\"/>\n      </g>\n     </g>\n     <g id=\"text_12\">\n      <!-- −0.25 -->\n      <g transform=\"translate(20.878125 175.32083) scale(0.1 -0.1)\">\n       <use xlink:href=\"#DejaVuSans-2212\"/>\n       <use xlink:href=\"#DejaVuSans-30\" x=\"83.789062\"/>\n       <use xlink:href=\"#DejaVuSans-2e\" x=\"147.412109\"/>\n       <use xlink:href=\"#DejaVuSans-32\" x=\"179.199219\"/>\n       <use xlink:href=\"#DejaVuSans-35\" x=\"242.822266\"/>\n      </g>\n     </g>\n    </g>\n    <g id=\"ytick_5\">\n     <g id=\"line2d_11\">\n      <g>\n       <use xlink:href=\"#m38a1c20d8d\" x=\"58.523438\" y=\"139.879138\" style=\"stroke: #000000; stroke-width: 0.8\"/>\n      </g>\n     </g>\n     <g id=\"text_13\">\n      <!-- 0.00 -->\n      <g transform=\"translate(29.257813 143.678357) scale(0.1 -0.1)\">\n       <use xlink:href=\"#DejaVuSans-30\"/>\n       <use xlink:href=\"#DejaVuSans-2e\" x=\"63.623047\"/>\n       <use xlink:href=\"#DejaVuSans-30\" x=\"95.410156\"/>\n       <use xlink:href=\"#DejaVuSans-30\" x=\"159.033203\"/>\n      </g>\n     </g>\n    </g>\n    <g id=\"ytick_6\">\n     <g id=\"line2d_12\">\n      <g>\n       <use xlink:href=\"#m38a1c20d8d\" x=\"58.523438\" y=\"108.236665\" style=\"stroke: #000000; stroke-width: 0.8\"/>\n      </g>\n     </g>\n     <g id=\"text_14\">\n      <!-- 0.25 -->\n      <g transform=\"translate(29.257813 112.035883) scale(0.1 -0.1)\">\n       <use xlink:href=\"#DejaVuSans-30\"/>\n       <use xlink:href=\"#DejaVuSans-2e\" x=\"63.623047\"/>\n       <use xlink:href=\"#DejaVuSans-32\" x=\"95.410156\"/>\n       <use xlink:href=\"#DejaVuSans-35\" x=\"159.033203\"/>\n      </g>\n     </g>\n    </g>\n    <g id=\"ytick_7\">\n     <g id=\"line2d_13\">\n      <g>\n       <use xlink:href=\"#m38a1c20d8d\" x=\"58.523438\" y=\"76.594191\" style=\"stroke: #000000; stroke-width: 0.8\"/>\n      </g>\n     </g>\n     <g id=\"text_15\">\n      <!-- 0.50 -->\n      <g transform=\"translate(29.257813 80.39341) scale(0.1 -0.1)\">\n       <use xlink:href=\"#DejaVuSans-30\"/>\n       <use xlink:href=\"#DejaVuSans-2e\" x=\"63.623047\"/>\n       <use xlink:href=\"#DejaVuSans-35\" x=\"95.410156\"/>\n       <use xlink:href=\"#DejaVuSans-30\" x=\"159.033203\"/>\n      </g>\n     </g>\n    </g>\n    <g id=\"ytick_8\">\n     <g id=\"line2d_14\">\n      <g>\n       <use xlink:href=\"#m38a1c20d8d\" x=\"58.523438\" y=\"44.951718\" style=\"stroke: #000000; stroke-width: 0.8\"/>\n      </g>\n     </g>\n     <g id=\"text_16\">\n      <!-- 0.75 -->\n      <g transform=\"translate(29.257813 48.750936) scale(0.1 -0.1)\">\n       <use xlink:href=\"#DejaVuSans-30\"/>\n       <use xlink:href=\"#DejaVuSans-2e\" x=\"63.623047\"/>\n       <use xlink:href=\"#DejaVuSans-37\" x=\"95.410156\"/>\n       <use xlink:href=\"#DejaVuSans-35\" x=\"159.033203\"/>\n      </g>\n     </g>\n    </g>\n    <g id=\"ytick_9\">\n     <g id=\"line2d_15\">\n      <g>\n       <use xlink:href=\"#m38a1c20d8d\" x=\"58.523438\" y=\"13.309244\" style=\"stroke: #000000; stroke-width: 0.8\"/>\n      </g>\n     </g>\n     <g id=\"text_17\">\n      <!-- 1.00 -->\n      <g transform=\"translate(29.257813 17.108463) scale(0.1 -0.1)\">\n       <use xlink:href=\"#DejaVuSans-31\"/>\n       <use xlink:href=\"#DejaVuSans-2e\" x=\"63.623047\"/>\n       <use xlink:href=\"#DejaVuSans-30\" x=\"95.410156\"/>\n       <use xlink:href=\"#DejaVuSans-30\" x=\"159.033203\"/>\n      </g>\n     </g>\n    </g>\n    <g id=\"text_18\">\n     <!-- m_y -->\n     <g transform=\"translate(14.520313 150.585687) rotate(-90) scale(0.1 -0.1)\">\n      <defs>\n       <path id=\"DejaVuSans-6d\" d=\"M 3328 2828 \nQ 3544 3216 3844 3400 \nQ 4144 3584 4550 3584 \nQ 5097 3584 5394 3201 \nQ 5691 2819 5691 2113 \nL 5691 0 \nL 5113 0 \nL 5113 2094 \nQ 5113 2597 4934 2840 \nQ 4756 3084 4391 3084 \nQ 3944 3084 3684 2787 \nQ 3425 2491 3425 1978 \nL 3425 0 \nL 2847 0 \nL 2847 2094 \nQ 2847 2600 2669 2842 \nQ 2491 3084 2119 3084 \nQ 1678 3084 1418 2786 \nQ 1159 2488 1159 1978 \nL 1159 0 \nL 581 0 \nL 581 3500 \nL 1159 3500 \nL 1159 2956 \nQ 1356 3278 1631 3431 \nQ 1906 3584 2284 3584 \nQ 2666 3584 2933 3390 \nQ 3200 3197 3328 2828 \nz\n\" transform=\"scale(0.015625)\"/>\n       <path id=\"DejaVuSans-5f\" d=\"M 3263 -1063 \nL 3263 -1509 \nL -63 -1509 \nL -63 -1063 \nL 3263 -1063 \nz\n\" transform=\"scale(0.015625)\"/>\n       <path id=\"DejaVuSans-79\" d=\"M 2059 -325 \nQ 1816 -950 1584 -1140 \nQ 1353 -1331 966 -1331 \nL 506 -1331 \nL 506 -850 \nL 844 -850 \nQ 1081 -850 1212 -737 \nQ 1344 -625 1503 -206 \nL 1606 56 \nL 191 3500 \nL 800 3500 \nL 1894 763 \nL 2988 3500 \nL 3597 3500 \nL 2059 -325 \nz\n\" transform=\"scale(0.015625)\"/>\n      </defs>\n      <use xlink:href=\"#DejaVuSans-6d\"/>\n      <use xlink:href=\"#DejaVuSans-5f\" x=\"97.412109\"/>\n      <use xlink:href=\"#DejaVuSans-79\" x=\"147.412109\"/>\n     </g>\n    </g>\n   </g>\n   <g id=\"line2d_16\">\n    <path d=\"M 74.756165 137.296619 \nL 75.165972 24.518021 \nL 75.215646 23.779359 \nL 75.26532 24.620289 \nL 75.364667 32.604192 \nL 75.911077 84.068396 \nL 75.935914 83.851835 \nL 76.016634 80.325345 \nL 76.991479 21.834866 \nL 77.041153 21.543122 \nL 77.097035 21.80297 \nL 77.270893 23.11993 \nL 77.332985 22.978298 \nL 77.488215 22.472271 \nL 77.537889 22.556947 \nL 77.693119 23.43357 \nL 77.984952 26.18001 \nL 78.748684 36.16802 \nL 79.146073 52.576794 \nL 79.555881 65.952827 \nL 79.79804 71.294583 \nL 80.226475 87.55527 \nL 80.934325 128.022425 \nL 81.28204 143.70608 \nL 81.847078 191.832283 \nL 82.449371 238.834266 \nL 82.890225 257.625845 \nL 83.138593 261.088924 \nL 83.194476 261.216 \nL 83.244149 261.090443 \nL 83.349706 259.9341 \nL 83.542191 254.653984 \nL 83.914744 237.442503 \nL 85.169003 172.937676 \nL 86.584702 105.59667 \nL 87.112485 90.087934 \nL 87.472619 77.845588 \nL 88.105958 59.234118 \nL 88.770343 43.3439 \nL 89.360217 32.310549 \nL 90.080485 21.686526 \nL 90.428201 19.575719 \nL 90.633105 19.329288 \nL 91.011866 19.379156 \nL 91.148469 19.836074 \nL 91.378209 21.582991 \nL 91.769389 26.382395 \nL 94.830528 70.600853 \nL 95.966813 88.966145 \nL 96.028905 88.86008 \nL 96.159298 88.074966 \nL 96.370411 85.158163 \nL 97.065842 74.437693 \nL 97.214863 74.017861 \nL 97.245909 74.035074 \nL 97.363884 74.317452 \nL 97.55016 75.421394 \nL 98.108989 79.19862 \nL 98.270428 79.389993 \nL 98.295265 79.372021 \nL 98.556051 79.004462 \nL 98.630562 79.178495 \nL 98.79821 80.253706 \nL 99.071416 83.590975 \nL 99.704755 92.008252 \nL 100.276001 99.570044 \nL 100.567834 101.946647 \nL 100.654763 102.072964 \nL 100.698227 102.018919 \nL 100.809993 101.475048 \nL 101.064571 98.700762 \nL 101.517843 94.63154 \nL 101.710328 94.268664 \nL 101.952487 94.359668 \nL 102.107717 94.687104 \nL 102.411968 95.26401 \nL 103.020471 95.345141 \nL 103.157073 95.805223 \nL 103.461324 97.821608 \nL 103.833877 102.214975 \nL 104.268521 105.847025 \nL 104.498262 106.356975 \nL 104.783885 106.522149 \nL 104.963952 106.19813 \nL 105.379969 105.049761 \nL 106.087818 101.760589 \nL 106.125074 101.784385 \nL 106.261676 102.115112 \nL 106.522463 103.411567 \nL 106.895015 105.199747 \nL 107.025408 105.128994 \nL 107.255149 104.687138 \nL 107.534563 104.098335 \nL 107.565609 104.118207 \nL 107.708421 104.426278 \nL 108.006463 105.654006 \nL 108.795032 109.749428 \nL 109.117911 110.216851 \nL 109.248304 110.204573 \nL 109.254513 110.196346 \nL 109.403534 109.785627 \nL 109.75125 108.009345 \nL 110.353543 104.557657 \nL 110.496355 104.356791 \nL 110.527401 104.379194 \nL 110.664003 104.708909 \nL 111.067602 106.440258 \nL 111.489828 108.192998 \nL 111.918263 109.211633 \nL 112.216305 109.86005 \nL 112.514347 110.183183 \nL 112.71925 110.229761 \nL 112.88069 109.902198 \nL 113.495401 108.581568 \nL 114.110112 108.134396 \nL 114.28397 107.974665 \nL 114.731033 107.441806 \nL 114.973192 107.377128 \nL 115.14705 107.751775 \nL 115.960456 109.642856 \nL 116.233661 109.662221 \nL 116.55033 109.531854 \nL 116.991184 109.781703 \nL 117.171251 109.704116 \nL 117.345109 109.242389 \nL 117.978448 107.439274 \nL 118.220607 107.330298 \nL 118.481393 107.341815 \nL 119.114733 108.217426 \nL 119.400356 108.494234 \nL 120.064741 109.208215 \nL 120.257226 109.278968 \nL 120.561478 108.925964 \nL 120.840892 108.390447 \nL 121.08926 108.133004 \nL 121.356256 107.905684 \nL 121.840574 107.219929 \nL 122.200708 106.636695 \nL 122.455285 106.469749 \nL 122.65398 106.752253 \nL 123.67229 108.201605 \nL 123.870984 108.026432 \nL 125.31152 106.369506 \nL 125.615771 106.038778 \nL 126.000742 105.878667 \nL 126.342248 105.994479 \nL 127.068725 106.161171 \nL 127.708274 106.562525 \nL 128.080826 106.344571 \nL 128.322985 105.950306 \nL 128.850768 105.24797 \nL 129.45927 104.698909 \nL 129.76973 104.419063 \nL 130.024307 104.273888 \nL 130.446533 104.387168 \nL 130.968107 104.88598 \nL 131.210266 104.966352 \nL 131.837396 104.591578 \nL 132.371387 103.83874 \nL 133.023354 103.038312 \nL 133.489044 102.967813 \nL 133.805714 103.064386 \nL 134.258986 103.020846 \nL 134.557028 102.923767 \nL 135.811287 102.533045 \nL 137.109012 101.293546 \nL 137.506401 101.090528 \nL 138.332225 101.201277 \nL 138.723405 101.190012 \nL 139.890736 100.346171 \nL 140.933882 99.439677 \nL 141.592058 99.563083 \nL 142.666251 99.188309 \nL 143.461029 98.667095 \nL 144.032276 98.302826 \nL 145.317582 97.545306 \nL 146.137197 97.617197 \nL 147.621197 96.582235 \nL 147.98754 96.314793 \nL 148.676762 96.061906 \nL 148.987223 96.059755 \nL 150.030369 95.864964 \nL 151.098353 95.127568 \nL 151.439859 94.973659 \nL 152.141499 94.659512 \nL 152.551307 94.510413 \nL 152.923859 94.416878 \nL 153.61929 94.307268 \nL 155.078454 93.564176 \nL 155.463424 93.359513 \nL 156.053299 93.183327 \nL 156.450688 93.155482 \nL 157.61181 92.879307 \nL 158.94058 92.274176 \nL 159.840915 92.026099 \nL 160.194839 91.93712 \nL 161.567074 91.658034 \nL 162.22525 91.434638 \nL 162.933099 91.177448 \nL 163.659576 90.985821 \nL 165.398154 90.768627 \nL 167.198824 90.296648 \nL 168.037067 90.238173 \nL 168.775962 90.156155 \nL 169.347209 90.04528 \nL 174.81752 89.376738 \nL 176.481587 89.266369 \nL 177.102507 89.180175 \nL 190.185305 88.757938 \nL 190.899363 88.749204 \nL 191.644468 88.739585 \nL 192.364736 88.71579 \nL 193.047748 88.7025 \nL 193.885991 88.709968 \nL 194.587632 88.720346 \nL 195.295481 88.724143 \nL 196.102678 88.704525 \nL 196.835364 88.697437 \nL 197.524586 88.696045 \nL 198.375247 88.705791 \nL 199.163816 88.720853 \nL 203.808302 88.704399 \nL 204.497524 88.704399 \nL 205.329558 88.712246 \nL 206.080872 88.732117 \nL 206.832186 88.713258 \nL 207.602127 88.730725 \nL 209.322077 88.725283 \nL 210.421107 88.72427 \nL 211.693994 88.742876 \nL 212.482563 88.74123 \nL 213.21525 88.749964 \nL 213.9914 88.751103 \nL 214.736505 88.745913 \nL 215.425727 88.744268 \nL 216.251551 88.750343 \nL 217.015284 88.768316 \nL 217.785225 88.751229 \nL 219.418246 88.761482 \nL 220.219234 88.764899 \nL 221.001594 88.780973 \nL 222.100623 88.782239 \nL 223.45423 88.782239 \nL 224.199335 88.77667 \nL 224.987904 88.791985 \nL 226.658181 88.783884 \nL 227.465377 88.796795 \nL 228.682382 88.78553 \nL 229.800039 88.783252 \nL 231.203319 88.786922 \nL 232.848759 88.796795 \nL 233.69942 88.789833 \nL 235.903688 88.810844 \nL 237.015136 88.812489 \nL 238.374952 88.811856 \nL 239.17594 88.79844 \nL 241.405045 88.818565 \nL 243.069112 88.809578 \nL 243.888727 88.821223 \nL 246.502803 88.817425 \nL 247.694971 88.807047 \nL 249.563942 88.810084 \nL 250.793364 88.821223 \nL 251.917231 88.824767 \nL 253.773783 88.822109 \nL 254.903859 88.825653 \nL 256.760411 88.823248 \nL 257.884278 88.826665 \nL 259.262721 88.825399 \nL 260.492144 88.814641 \nL 261.727776 88.82426 \nL 262.851642 88.827424 \nL 264.708195 88.824387 \nL 265.832061 88.827931 \nL 267.694823 88.82502 \nL 268.81248 88.828184 \nL 270.675242 88.825146 \nL 271.923292 88.816286 \nL 273.165134 88.825779 \nL 274.406975 88.816539 \nL 275.655025 88.826159 \nL 276.896866 88.816413 \nL 278.138708 88.826032 \nL 279.380549 88.816539 \nL 280.62239 88.825906 \nL 281.864231 88.816666 \nL 283.112282 88.826285 \nL 284.354123 88.816413 \nL 285.595964 88.826159 \nL 287.303496 88.819324 \nL 288.43978 88.814514 \nL 291.277388 88.819577 \nL 292.419881 88.814767 \nL 294.282643 88.817425 \nL 295.536903 88.826032 \nL 297.244435 88.819197 \nL 298.523531 88.826285 \nL 300.224853 88.819324 \nL 301.50395 88.826032 \nL 303.205272 88.819577 \nL 304.341557 88.814767 \nL 307.179164 88.819704 \nL 308.46447 88.826032 \nL 310.165792 88.819324 \nL 311.444889 88.825906 \nL 313.146211 88.819451 \nL 314.431517 88.826032 \nL 316.132839 88.819071 \nL 317.411936 88.825906 \nL 319.113258 88.819197 \nL 320.392355 88.825779 \nL 322.093677 88.819324 \nL 323.378983 88.825906 \nL 325.080305 88.818944 \nL 326.359402 88.825779 \nL 328.060724 88.819071 \nL 329.33982 88.825653 \nL 331.047352 88.818818 \nL 332.326448 88.825906 \nL 334.97157 88.822868 \nL 336.30034 88.825653 \nL 338.001663 88.819071 \nL 339.280759 88.825526 \nL 340.988291 88.818691 \nL 342.726869 88.823374 \nL 344.465446 88.818944 \nL 345.744543 88.825526 \nL 347.445865 88.819071 \nL 348.724962 88.825399 \nL 350.432493 88.818691 \nL 352.171071 88.823374 \nL 353.909649 88.818818 \nL 355.648226 88.823248 \nL 357.386804 88.819071 \nL 358.67211 88.825653 \nL 361.317231 88.822362 \nL 362.639792 88.825146 \nL 364.347324 88.818944 \nL 365.62642 88.825399 \nL 368.271542 88.822488 \nL 370.066003 88.823501 \nL 371.80458 88.818818 \nL 373.543158 88.823374 \nL 375.281736 88.818944 \nL 377.020313 88.823248 \nL 378.7651 88.818691 \nL 380.503678 88.823501 \nL 383.186055 88.822109 \nL 384.980515 88.823627 \nL 386.712884 88.818944 \nL 388.457671 88.823501 \nL 390.196249 88.818691 \nL 392.878626 88.82021 \nL 394.666877 88.818944 \nL 396.405455 88.823248 \nL 398.150241 88.818691 \nL 399.41071 88.824387 \nL 399.41071 88.824387 \n\" clip-path=\"url(#p94ee721bdd)\" style=\"fill: none; stroke: #1f77b4; stroke-width: 1.5; stroke-linecap: square\"/>\n   </g>\n   <g id=\"patch_3\">\n    <path d=\"M 58.523438 273.312 \nL 58.523438 7.2 \n\" style=\"fill: none; stroke: #000000; stroke-width: 0.8; stroke-linejoin: miter; stroke-linecap: square\"/>\n   </g>\n   <g id=\"patch_4\">\n    <path d=\"M 415.643438 273.312 \nL 415.643438 7.2 \n\" style=\"fill: none; stroke: #000000; stroke-width: 0.8; stroke-linejoin: miter; stroke-linecap: square\"/>\n   </g>\n   <g id=\"patch_5\">\n    <path d=\"M 58.523438 273.312 \nL 415.643437 273.312 \n\" style=\"fill: none; stroke: #000000; stroke-width: 0.8; stroke-linejoin: miter; stroke-linecap: square\"/>\n   </g>\n   <g id=\"patch_6\">\n    <path d=\"M 58.523438 7.2 \nL 415.643437 7.2 \n\" style=\"fill: none; stroke: #000000; stroke-width: 0.8; stroke-linejoin: miter; stroke-linecap: square\"/>\n   </g>\n  </g>\n </g>\n <defs>\n  <clipPath id=\"p94ee721bdd\">\n   <rect x=\"58.523438\" y=\"7.2\" width=\"357.12\" height=\"266.112\"/>\n  </clipPath>\n </defs>\n</svg>\n"
          },
          "metadata": {}
        },
        {
          "output_type": "display_data",
          "data": {
            "text/plain": [
              "<Figure size 640x480 with 1 Axes>"
            ],
            "image/svg+xml": "<?xml version=\"1.0\" encoding=\"utf-8\" standalone=\"no\"?>\n<!DOCTYPE svg PUBLIC \"-//W3C//DTD SVG 1.1//EN\"\n  \"http://www.w3.org/Graphics/SVG/1.1/DTD/svg11.dtd\">\n<svg xmlns:xlink=\"http://www.w3.org/1999/xlink\" width=\"428.780937pt\" height=\"325.986375pt\" viewBox=\"0 0 428.780937 325.986375\" xmlns=\"http://www.w3.org/2000/svg\" version=\"1.1\">\n <metadata>\n  <rdf:RDF xmlns:dc=\"http://purl.org/dc/elements/1.1/\" xmlns:cc=\"http://creativecommons.org/ns#\" xmlns:rdf=\"http://www.w3.org/1999/02/22-rdf-syntax-ns#\">\n   <cc:Work>\n    <dc:type rdf:resource=\"http://purl.org/dc/dcmitype/StillImage\"/>\n    <dc:date>2023-05-10T12:18:26.271819</dc:date>\n    <dc:format>image/svg+xml</dc:format>\n    <dc:creator>\n     <cc:Agent>\n      <dc:title>Matplotlib v3.7.1, https://matplotlib.org/</dc:title>\n     </cc:Agent>\n    </dc:creator>\n   </cc:Work>\n  </rdf:RDF>\n </metadata>\n <defs>\n  <style type=\"text/css\">*{stroke-linejoin: round; stroke-linecap: butt}</style>\n </defs>\n <g id=\"figure_1\">\n  <g id=\"patch_1\">\n   <path d=\"M 0 325.986375 \nL 428.780938 325.986375 \nL 428.780938 0 \nL 0 0 \nz\n\" style=\"fill: #ffffff\"/>\n  </g>\n  <g id=\"axes_1\">\n   <g id=\"patch_2\">\n    <path d=\"M 53.328125 288.430125 \nL 410.448125 288.430125 \nL 410.448125 22.318125 \nL 53.328125 22.318125 \nz\n\" style=\"fill: #ffffff\"/>\n   </g>\n   <g id=\"matplotlib.axis_1\">\n    <g id=\"xtick_1\">\n     <g id=\"line2d_1\">\n      <defs>\n       <path id=\"me2ebd185e6\" d=\"M 0 0 \nL 0 3.5 \n\" style=\"stroke: #000000; stroke-width: 0.8\"/>\n      </defs>\n      <g>\n       <use xlink:href=\"#me2ebd185e6\" x=\"53.328125\" y=\"288.430125\" style=\"stroke: #000000; stroke-width: 0.8\"/>\n      </g>\n     </g>\n     <g id=\"text_1\">\n      <!-- 0.00 -->\n      <g transform=\"translate(42.195313 303.028562) scale(0.1 -0.1)\">\n       <defs>\n        <path id=\"DejaVuSans-30\" d=\"M 2034 4250 \nQ 1547 4250 1301 3770 \nQ 1056 3291 1056 2328 \nQ 1056 1369 1301 889 \nQ 1547 409 2034 409 \nQ 2525 409 2770 889 \nQ 3016 1369 3016 2328 \nQ 3016 3291 2770 3770 \nQ 2525 4250 2034 4250 \nz\nM 2034 4750 \nQ 2819 4750 3233 4129 \nQ 3647 3509 3647 2328 \nQ 3647 1150 3233 529 \nQ 2819 -91 2034 -91 \nQ 1250 -91 836 529 \nQ 422 1150 422 2328 \nQ 422 3509 836 4129 \nQ 1250 4750 2034 4750 \nz\n\" transform=\"scale(0.015625)\"/>\n        <path id=\"DejaVuSans-2e\" d=\"M 684 794 \nL 1344 794 \nL 1344 0 \nL 684 0 \nL 684 794 \nz\n\" transform=\"scale(0.015625)\"/>\n       </defs>\n       <use xlink:href=\"#DejaVuSans-30\"/>\n       <use xlink:href=\"#DejaVuSans-2e\" x=\"63.623047\"/>\n       <use xlink:href=\"#DejaVuSans-30\" x=\"95.410156\"/>\n       <use xlink:href=\"#DejaVuSans-30\" x=\"159.033203\"/>\n      </g>\n     </g>\n    </g>\n    <g id=\"xtick_2\">\n     <g id=\"line2d_2\">\n      <g>\n       <use xlink:href=\"#me2ebd185e6\" x=\"97.968125\" y=\"288.430125\" style=\"stroke: #000000; stroke-width: 0.8\"/>\n      </g>\n     </g>\n     <g id=\"text_2\">\n      <!-- 0.25 -->\n      <g transform=\"translate(86.835313 303.028562) scale(0.1 -0.1)\">\n       <defs>\n        <path id=\"DejaVuSans-32\" d=\"M 1228 531 \nL 3431 531 \nL 3431 0 \nL 469 0 \nL 469 531 \nQ 828 903 1448 1529 \nQ 2069 2156 2228 2338 \nQ 2531 2678 2651 2914 \nQ 2772 3150 2772 3378 \nQ 2772 3750 2511 3984 \nQ 2250 4219 1831 4219 \nQ 1534 4219 1204 4116 \nQ 875 4013 500 3803 \nL 500 4441 \nQ 881 4594 1212 4672 \nQ 1544 4750 1819 4750 \nQ 2544 4750 2975 4387 \nQ 3406 4025 3406 3419 \nQ 3406 3131 3298 2873 \nQ 3191 2616 2906 2266 \nQ 2828 2175 2409 1742 \nQ 1991 1309 1228 531 \nz\n\" transform=\"scale(0.015625)\"/>\n        <path id=\"DejaVuSans-35\" d=\"M 691 4666 \nL 3169 4666 \nL 3169 4134 \nL 1269 4134 \nL 1269 2991 \nQ 1406 3038 1543 3061 \nQ 1681 3084 1819 3084 \nQ 2600 3084 3056 2656 \nQ 3513 2228 3513 1497 \nQ 3513 744 3044 326 \nQ 2575 -91 1722 -91 \nQ 1428 -91 1123 -41 \nQ 819 9 494 109 \nL 494 744 \nQ 775 591 1075 516 \nQ 1375 441 1709 441 \nQ 2250 441 2565 725 \nQ 2881 1009 2881 1497 \nQ 2881 1984 2565 2268 \nQ 2250 2553 1709 2553 \nQ 1456 2553 1204 2497 \nQ 953 2441 691 2322 \nL 691 4666 \nz\n\" transform=\"scale(0.015625)\"/>\n       </defs>\n       <use xlink:href=\"#DejaVuSans-30\"/>\n       <use xlink:href=\"#DejaVuSans-2e\" x=\"63.623047\"/>\n       <use xlink:href=\"#DejaVuSans-32\" x=\"95.410156\"/>\n       <use xlink:href=\"#DejaVuSans-35\" x=\"159.033203\"/>\n      </g>\n     </g>\n    </g>\n    <g id=\"xtick_3\">\n     <g id=\"line2d_3\">\n      <g>\n       <use xlink:href=\"#me2ebd185e6\" x=\"142.608125\" y=\"288.430125\" style=\"stroke: #000000; stroke-width: 0.8\"/>\n      </g>\n     </g>\n     <g id=\"text_3\">\n      <!-- 0.50 -->\n      <g transform=\"translate(131.475313 303.028562) scale(0.1 -0.1)\">\n       <use xlink:href=\"#DejaVuSans-30\"/>\n       <use xlink:href=\"#DejaVuSans-2e\" x=\"63.623047\"/>\n       <use xlink:href=\"#DejaVuSans-35\" x=\"95.410156\"/>\n       <use xlink:href=\"#DejaVuSans-30\" x=\"159.033203\"/>\n      </g>\n     </g>\n    </g>\n    <g id=\"xtick_4\">\n     <g id=\"line2d_4\">\n      <g>\n       <use xlink:href=\"#me2ebd185e6\" x=\"187.248125\" y=\"288.430125\" style=\"stroke: #000000; stroke-width: 0.8\"/>\n      </g>\n     </g>\n     <g id=\"text_4\">\n      <!-- 0.75 -->\n      <g transform=\"translate(176.115313 303.028562) scale(0.1 -0.1)\">\n       <defs>\n        <path id=\"DejaVuSans-37\" d=\"M 525 4666 \nL 3525 4666 \nL 3525 4397 \nL 1831 0 \nL 1172 0 \nL 2766 4134 \nL 525 4134 \nL 525 4666 \nz\n\" transform=\"scale(0.015625)\"/>\n       </defs>\n       <use xlink:href=\"#DejaVuSans-30\"/>\n       <use xlink:href=\"#DejaVuSans-2e\" x=\"63.623047\"/>\n       <use xlink:href=\"#DejaVuSans-37\" x=\"95.410156\"/>\n       <use xlink:href=\"#DejaVuSans-35\" x=\"159.033203\"/>\n      </g>\n     </g>\n    </g>\n    <g id=\"xtick_5\">\n     <g id=\"line2d_5\">\n      <g>\n       <use xlink:href=\"#me2ebd185e6\" x=\"231.888125\" y=\"288.430125\" style=\"stroke: #000000; stroke-width: 0.8\"/>\n      </g>\n     </g>\n     <g id=\"text_5\">\n      <!-- 1.00 -->\n      <g transform=\"translate(220.755313 303.028562) scale(0.1 -0.1)\">\n       <defs>\n        <path id=\"DejaVuSans-31\" d=\"M 794 531 \nL 1825 531 \nL 1825 4091 \nL 703 3866 \nL 703 4441 \nL 1819 4666 \nL 2450 4666 \nL 2450 531 \nL 3481 531 \nL 3481 0 \nL 794 0 \nL 794 531 \nz\n\" transform=\"scale(0.015625)\"/>\n       </defs>\n       <use xlink:href=\"#DejaVuSans-31\"/>\n       <use xlink:href=\"#DejaVuSans-2e\" x=\"63.623047\"/>\n       <use xlink:href=\"#DejaVuSans-30\" x=\"95.410156\"/>\n       <use xlink:href=\"#DejaVuSans-30\" x=\"159.033203\"/>\n      </g>\n     </g>\n    </g>\n    <g id=\"xtick_6\">\n     <g id=\"line2d_6\">\n      <g>\n       <use xlink:href=\"#me2ebd185e6\" x=\"276.528125\" y=\"288.430125\" style=\"stroke: #000000; stroke-width: 0.8\"/>\n      </g>\n     </g>\n     <g id=\"text_6\">\n      <!-- 1.25 -->\n      <g transform=\"translate(265.395313 303.028562) scale(0.1 -0.1)\">\n       <use xlink:href=\"#DejaVuSans-31\"/>\n       <use xlink:href=\"#DejaVuSans-2e\" x=\"63.623047\"/>\n       <use xlink:href=\"#DejaVuSans-32\" x=\"95.410156\"/>\n       <use xlink:href=\"#DejaVuSans-35\" x=\"159.033203\"/>\n      </g>\n     </g>\n    </g>\n    <g id=\"xtick_7\">\n     <g id=\"line2d_7\">\n      <g>\n       <use xlink:href=\"#me2ebd185e6\" x=\"321.168125\" y=\"288.430125\" style=\"stroke: #000000; stroke-width: 0.8\"/>\n      </g>\n     </g>\n     <g id=\"text_7\">\n      <!-- 1.50 -->\n      <g transform=\"translate(310.035313 303.028562) scale(0.1 -0.1)\">\n       <use xlink:href=\"#DejaVuSans-31\"/>\n       <use xlink:href=\"#DejaVuSans-2e\" x=\"63.623047\"/>\n       <use xlink:href=\"#DejaVuSans-35\" x=\"95.410156\"/>\n       <use xlink:href=\"#DejaVuSans-30\" x=\"159.033203\"/>\n      </g>\n     </g>\n    </g>\n    <g id=\"xtick_8\">\n     <g id=\"line2d_8\">\n      <g>\n       <use xlink:href=\"#me2ebd185e6\" x=\"365.808125\" y=\"288.430125\" style=\"stroke: #000000; stroke-width: 0.8\"/>\n      </g>\n     </g>\n     <g id=\"text_8\">\n      <!-- 1.75 -->\n      <g transform=\"translate(354.675313 303.028562) scale(0.1 -0.1)\">\n       <use xlink:href=\"#DejaVuSans-31\"/>\n       <use xlink:href=\"#DejaVuSans-2e\" x=\"63.623047\"/>\n       <use xlink:href=\"#DejaVuSans-37\" x=\"95.410156\"/>\n       <use xlink:href=\"#DejaVuSans-35\" x=\"159.033203\"/>\n      </g>\n     </g>\n    </g>\n    <g id=\"xtick_9\">\n     <g id=\"line2d_9\">\n      <g>\n       <use xlink:href=\"#me2ebd185e6\" x=\"410.448125\" y=\"288.430125\" style=\"stroke: #000000; stroke-width: 0.8\"/>\n      </g>\n     </g>\n     <g id=\"text_9\">\n      <!-- 2.00 -->\n      <g transform=\"translate(399.315313 303.028562) scale(0.1 -0.1)\">\n       <use xlink:href=\"#DejaVuSans-32\"/>\n       <use xlink:href=\"#DejaVuSans-2e\" x=\"63.623047\"/>\n       <use xlink:href=\"#DejaVuSans-30\" x=\"95.410156\"/>\n       <use xlink:href=\"#DejaVuSans-30\" x=\"159.033203\"/>\n      </g>\n     </g>\n    </g>\n    <g id=\"text_10\">\n     <!-- freqeuency (10GHz) -->\n     <g transform=\"translate(181.623281 316.706687) scale(0.1 -0.1)\">\n      <defs>\n       <path id=\"DejaVuSans-66\" d=\"M 2375 4863 \nL 2375 4384 \nL 1825 4384 \nQ 1516 4384 1395 4259 \nQ 1275 4134 1275 3809 \nL 1275 3500 \nL 2222 3500 \nL 2222 3053 \nL 1275 3053 \nL 1275 0 \nL 697 0 \nL 697 3053 \nL 147 3053 \nL 147 3500 \nL 697 3500 \nL 697 3744 \nQ 697 4328 969 4595 \nQ 1241 4863 1831 4863 \nL 2375 4863 \nz\n\" transform=\"scale(0.015625)\"/>\n       <path id=\"DejaVuSans-72\" d=\"M 2631 2963 \nQ 2534 3019 2420 3045 \nQ 2306 3072 2169 3072 \nQ 1681 3072 1420 2755 \nQ 1159 2438 1159 1844 \nL 1159 0 \nL 581 0 \nL 581 3500 \nL 1159 3500 \nL 1159 2956 \nQ 1341 3275 1631 3429 \nQ 1922 3584 2338 3584 \nQ 2397 3584 2469 3576 \nQ 2541 3569 2628 3553 \nL 2631 2963 \nz\n\" transform=\"scale(0.015625)\"/>\n       <path id=\"DejaVuSans-65\" d=\"M 3597 1894 \nL 3597 1613 \nL 953 1613 \nQ 991 1019 1311 708 \nQ 1631 397 2203 397 \nQ 2534 397 2845 478 \nQ 3156 559 3463 722 \nL 3463 178 \nQ 3153 47 2828 -22 \nQ 2503 -91 2169 -91 \nQ 1331 -91 842 396 \nQ 353 884 353 1716 \nQ 353 2575 817 3079 \nQ 1281 3584 2069 3584 \nQ 2775 3584 3186 3129 \nQ 3597 2675 3597 1894 \nz\nM 3022 2063 \nQ 3016 2534 2758 2815 \nQ 2500 3097 2075 3097 \nQ 1594 3097 1305 2825 \nQ 1016 2553 972 2059 \nL 3022 2063 \nz\n\" transform=\"scale(0.015625)\"/>\n       <path id=\"DejaVuSans-71\" d=\"M 947 1747 \nQ 947 1113 1208 752 \nQ 1469 391 1925 391 \nQ 2381 391 2643 752 \nQ 2906 1113 2906 1747 \nQ 2906 2381 2643 2742 \nQ 2381 3103 1925 3103 \nQ 1469 3103 1208 2742 \nQ 947 2381 947 1747 \nz\nM 2906 525 \nQ 2725 213 2448 61 \nQ 2172 -91 1784 -91 \nQ 1150 -91 751 415 \nQ 353 922 353 1747 \nQ 353 2572 751 3078 \nQ 1150 3584 1784 3584 \nQ 2172 3584 2448 3432 \nQ 2725 3281 2906 2969 \nL 2906 3500 \nL 3481 3500 \nL 3481 -1331 \nL 2906 -1331 \nL 2906 525 \nz\n\" transform=\"scale(0.015625)\"/>\n       <path id=\"DejaVuSans-75\" d=\"M 544 1381 \nL 544 3500 \nL 1119 3500 \nL 1119 1403 \nQ 1119 906 1312 657 \nQ 1506 409 1894 409 \nQ 2359 409 2629 706 \nQ 2900 1003 2900 1516 \nL 2900 3500 \nL 3475 3500 \nL 3475 0 \nL 2900 0 \nL 2900 538 \nQ 2691 219 2414 64 \nQ 2138 -91 1772 -91 \nQ 1169 -91 856 284 \nQ 544 659 544 1381 \nz\nM 1991 3584 \nL 1991 3584 \nz\n\" transform=\"scale(0.015625)\"/>\n       <path id=\"DejaVuSans-6e\" d=\"M 3513 2113 \nL 3513 0 \nL 2938 0 \nL 2938 2094 \nQ 2938 2591 2744 2837 \nQ 2550 3084 2163 3084 \nQ 1697 3084 1428 2787 \nQ 1159 2491 1159 1978 \nL 1159 0 \nL 581 0 \nL 581 3500 \nL 1159 3500 \nL 1159 2956 \nQ 1366 3272 1645 3428 \nQ 1925 3584 2291 3584 \nQ 2894 3584 3203 3211 \nQ 3513 2838 3513 2113 \nz\n\" transform=\"scale(0.015625)\"/>\n       <path id=\"DejaVuSans-63\" d=\"M 3122 3366 \nL 3122 2828 \nQ 2878 2963 2633 3030 \nQ 2388 3097 2138 3097 \nQ 1578 3097 1268 2742 \nQ 959 2388 959 1747 \nQ 959 1106 1268 751 \nQ 1578 397 2138 397 \nQ 2388 397 2633 464 \nQ 2878 531 3122 666 \nL 3122 134 \nQ 2881 22 2623 -34 \nQ 2366 -91 2075 -91 \nQ 1284 -91 818 406 \nQ 353 903 353 1747 \nQ 353 2603 823 3093 \nQ 1294 3584 2113 3584 \nQ 2378 3584 2631 3529 \nQ 2884 3475 3122 3366 \nz\n\" transform=\"scale(0.015625)\"/>\n       <path id=\"DejaVuSans-79\" d=\"M 2059 -325 \nQ 1816 -950 1584 -1140 \nQ 1353 -1331 966 -1331 \nL 506 -1331 \nL 506 -850 \nL 844 -850 \nQ 1081 -850 1212 -737 \nQ 1344 -625 1503 -206 \nL 1606 56 \nL 191 3500 \nL 800 3500 \nL 1894 763 \nL 2988 3500 \nL 3597 3500 \nL 2059 -325 \nz\n\" transform=\"scale(0.015625)\"/>\n       <path id=\"DejaVuSans-20\" transform=\"scale(0.015625)\"/>\n       <path id=\"DejaVuSans-28\" d=\"M 1984 4856 \nQ 1566 4138 1362 3434 \nQ 1159 2731 1159 2009 \nQ 1159 1288 1364 580 \nQ 1569 -128 1984 -844 \nL 1484 -844 \nQ 1016 -109 783 600 \nQ 550 1309 550 2009 \nQ 550 2706 781 3412 \nQ 1013 4119 1484 4856 \nL 1984 4856 \nz\n\" transform=\"scale(0.015625)\"/>\n       <path id=\"DejaVuSans-47\" d=\"M 3809 666 \nL 3809 1919 \nL 2778 1919 \nL 2778 2438 \nL 4434 2438 \nL 4434 434 \nQ 4069 175 3628 42 \nQ 3188 -91 2688 -91 \nQ 1594 -91 976 548 \nQ 359 1188 359 2328 \nQ 359 3472 976 4111 \nQ 1594 4750 2688 4750 \nQ 3144 4750 3555 4637 \nQ 3966 4525 4313 4306 \nL 4313 3634 \nQ 3963 3931 3569 4081 \nQ 3175 4231 2741 4231 \nQ 1884 4231 1454 3753 \nQ 1025 3275 1025 2328 \nQ 1025 1384 1454 906 \nQ 1884 428 2741 428 \nQ 3075 428 3337 486 \nQ 3600 544 3809 666 \nz\n\" transform=\"scale(0.015625)\"/>\n       <path id=\"DejaVuSans-48\" d=\"M 628 4666 \nL 1259 4666 \nL 1259 2753 \nL 3553 2753 \nL 3553 4666 \nL 4184 4666 \nL 4184 0 \nL 3553 0 \nL 3553 2222 \nL 1259 2222 \nL 1259 0 \nL 628 0 \nL 628 4666 \nz\n\" transform=\"scale(0.015625)\"/>\n       <path id=\"DejaVuSans-7a\" d=\"M 353 3500 \nL 3084 3500 \nL 3084 2975 \nL 922 459 \nL 3084 459 \nL 3084 0 \nL 275 0 \nL 275 525 \nL 2438 3041 \nL 353 3041 \nL 353 3500 \nz\n\" transform=\"scale(0.015625)\"/>\n       <path id=\"DejaVuSans-29\" d=\"M 513 4856 \nL 1013 4856 \nQ 1481 4119 1714 3412 \nQ 1947 2706 1947 2009 \nQ 1947 1309 1714 600 \nQ 1481 -109 1013 -844 \nL 513 -844 \nQ 928 -128 1133 580 \nQ 1338 1288 1338 2009 \nQ 1338 2731 1133 3434 \nQ 928 4138 513 4856 \nz\n\" transform=\"scale(0.015625)\"/>\n      </defs>\n      <use xlink:href=\"#DejaVuSans-66\"/>\n      <use xlink:href=\"#DejaVuSans-72\" x=\"35.205078\"/>\n      <use xlink:href=\"#DejaVuSans-65\" x=\"74.068359\"/>\n      <use xlink:href=\"#DejaVuSans-71\" x=\"135.591797\"/>\n      <use xlink:href=\"#DejaVuSans-65\" x=\"199.068359\"/>\n      <use xlink:href=\"#DejaVuSans-75\" x=\"260.591797\"/>\n      <use xlink:href=\"#DejaVuSans-65\" x=\"323.970703\"/>\n      <use xlink:href=\"#DejaVuSans-6e\" x=\"385.494141\"/>\n      <use xlink:href=\"#DejaVuSans-63\" x=\"448.873047\"/>\n      <use xlink:href=\"#DejaVuSans-79\" x=\"503.853516\"/>\n      <use xlink:href=\"#DejaVuSans-20\" x=\"563.033203\"/>\n      <use xlink:href=\"#DejaVuSans-28\" x=\"594.820312\"/>\n      <use xlink:href=\"#DejaVuSans-31\" x=\"633.833984\"/>\n      <use xlink:href=\"#DejaVuSans-30\" x=\"697.457031\"/>\n      <use xlink:href=\"#DejaVuSans-47\" x=\"761.080078\"/>\n      <use xlink:href=\"#DejaVuSans-48\" x=\"838.570312\"/>\n      <use xlink:href=\"#DejaVuSans-7a\" x=\"913.765625\"/>\n      <use xlink:href=\"#DejaVuSans-29\" x=\"966.255859\"/>\n     </g>\n    </g>\n    <g id=\"text_11\">\n     <!-- 1e10 -->\n     <g transform=\"translate(385.2075 315.706687) scale(0.1 -0.1)\">\n      <use xlink:href=\"#DejaVuSans-31\"/>\n      <use xlink:href=\"#DejaVuSans-65\" x=\"63.623047\"/>\n      <use xlink:href=\"#DejaVuSans-31\" x=\"125.146484\"/>\n      <use xlink:href=\"#DejaVuSans-30\" x=\"188.769531\"/>\n     </g>\n    </g>\n   </g>\n   <g id=\"matplotlib.axis_2\">\n    <g id=\"ytick_1\">\n     <g id=\"line2d_10\">\n      <defs>\n       <path id=\"ma7a904c482\" d=\"M 0 0 \nL -3.5 0 \n\" style=\"stroke: #000000; stroke-width: 0.8\"/>\n      </defs>\n      <g>\n       <use xlink:href=\"#ma7a904c482\" x=\"53.328125\" y=\"288.430125\" style=\"stroke: #000000; stroke-width: 0.8\"/>\n      </g>\n     </g>\n     <g id=\"text_12\">\n      <!-- 0 -->\n      <g transform=\"translate(39.965625 292.229344) scale(0.1 -0.1)\">\n       <use xlink:href=\"#DejaVuSans-30\"/>\n      </g>\n     </g>\n    </g>\n    <g id=\"ytick_2\">\n     <g id=\"line2d_11\">\n      <g>\n       <use xlink:href=\"#ma7a904c482\" x=\"53.328125\" y=\"247.181454\" style=\"stroke: #000000; stroke-width: 0.8\"/>\n      </g>\n     </g>\n     <g id=\"text_13\">\n      <!-- 200 -->\n      <g transform=\"translate(27.240625 250.980672) scale(0.1 -0.1)\">\n       <use xlink:href=\"#DejaVuSans-32\"/>\n       <use xlink:href=\"#DejaVuSans-30\" x=\"63.623047\"/>\n       <use xlink:href=\"#DejaVuSans-30\" x=\"127.246094\"/>\n      </g>\n     </g>\n    </g>\n    <g id=\"ytick_3\">\n     <g id=\"line2d_12\">\n      <g>\n       <use xlink:href=\"#ma7a904c482\" x=\"53.328125\" y=\"205.932782\" style=\"stroke: #000000; stroke-width: 0.8\"/>\n      </g>\n     </g>\n     <g id=\"text_14\">\n      <!-- 400 -->\n      <g transform=\"translate(27.240625 209.732001) scale(0.1 -0.1)\">\n       <defs>\n        <path id=\"DejaVuSans-34\" d=\"M 2419 4116 \nL 825 1625 \nL 2419 1625 \nL 2419 4116 \nz\nM 2253 4666 \nL 3047 4666 \nL 3047 1625 \nL 3713 1625 \nL 3713 1100 \nL 3047 1100 \nL 3047 0 \nL 2419 0 \nL 2419 1100 \nL 313 1100 \nL 313 1709 \nL 2253 4666 \nz\n\" transform=\"scale(0.015625)\"/>\n       </defs>\n       <use xlink:href=\"#DejaVuSans-34\"/>\n       <use xlink:href=\"#DejaVuSans-30\" x=\"63.623047\"/>\n       <use xlink:href=\"#DejaVuSans-30\" x=\"127.246094\"/>\n      </g>\n     </g>\n    </g>\n    <g id=\"ytick_4\">\n     <g id=\"line2d_13\">\n      <g>\n       <use xlink:href=\"#ma7a904c482\" x=\"53.328125\" y=\"164.684111\" style=\"stroke: #000000; stroke-width: 0.8\"/>\n      </g>\n     </g>\n     <g id=\"text_15\">\n      <!-- 600 -->\n      <g transform=\"translate(27.240625 168.483329) scale(0.1 -0.1)\">\n       <defs>\n        <path id=\"DejaVuSans-36\" d=\"M 2113 2584 \nQ 1688 2584 1439 2293 \nQ 1191 2003 1191 1497 \nQ 1191 994 1439 701 \nQ 1688 409 2113 409 \nQ 2538 409 2786 701 \nQ 3034 994 3034 1497 \nQ 3034 2003 2786 2293 \nQ 2538 2584 2113 2584 \nz\nM 3366 4563 \nL 3366 3988 \nQ 3128 4100 2886 4159 \nQ 2644 4219 2406 4219 \nQ 1781 4219 1451 3797 \nQ 1122 3375 1075 2522 \nQ 1259 2794 1537 2939 \nQ 1816 3084 2150 3084 \nQ 2853 3084 3261 2657 \nQ 3669 2231 3669 1497 \nQ 3669 778 3244 343 \nQ 2819 -91 2113 -91 \nQ 1303 -91 875 529 \nQ 447 1150 447 2328 \nQ 447 3434 972 4092 \nQ 1497 4750 2381 4750 \nQ 2619 4750 2861 4703 \nQ 3103 4656 3366 4563 \nz\n\" transform=\"scale(0.015625)\"/>\n       </defs>\n       <use xlink:href=\"#DejaVuSans-36\"/>\n       <use xlink:href=\"#DejaVuSans-30\" x=\"63.623047\"/>\n       <use xlink:href=\"#DejaVuSans-30\" x=\"127.246094\"/>\n      </g>\n     </g>\n    </g>\n    <g id=\"ytick_5\">\n     <g id=\"line2d_14\">\n      <g>\n       <use xlink:href=\"#ma7a904c482\" x=\"53.328125\" y=\"123.435439\" style=\"stroke: #000000; stroke-width: 0.8\"/>\n      </g>\n     </g>\n     <g id=\"text_16\">\n      <!-- 800 -->\n      <g transform=\"translate(27.240625 127.234658) scale(0.1 -0.1)\">\n       <defs>\n        <path id=\"DejaVuSans-38\" d=\"M 2034 2216 \nQ 1584 2216 1326 1975 \nQ 1069 1734 1069 1313 \nQ 1069 891 1326 650 \nQ 1584 409 2034 409 \nQ 2484 409 2743 651 \nQ 3003 894 3003 1313 \nQ 3003 1734 2745 1975 \nQ 2488 2216 2034 2216 \nz\nM 1403 2484 \nQ 997 2584 770 2862 \nQ 544 3141 544 3541 \nQ 544 4100 942 4425 \nQ 1341 4750 2034 4750 \nQ 2731 4750 3128 4425 \nQ 3525 4100 3525 3541 \nQ 3525 3141 3298 2862 \nQ 3072 2584 2669 2484 \nQ 3125 2378 3379 2068 \nQ 3634 1759 3634 1313 \nQ 3634 634 3220 271 \nQ 2806 -91 2034 -91 \nQ 1263 -91 848 271 \nQ 434 634 434 1313 \nQ 434 1759 690 2068 \nQ 947 2378 1403 2484 \nz\nM 1172 3481 \nQ 1172 3119 1398 2916 \nQ 1625 2713 2034 2713 \nQ 2441 2713 2670 2916 \nQ 2900 3119 2900 3481 \nQ 2900 3844 2670 4047 \nQ 2441 4250 2034 4250 \nQ 1625 4250 1398 4047 \nQ 1172 3844 1172 3481 \nz\n\" transform=\"scale(0.015625)\"/>\n       </defs>\n       <use xlink:href=\"#DejaVuSans-38\"/>\n       <use xlink:href=\"#DejaVuSans-30\" x=\"63.623047\"/>\n       <use xlink:href=\"#DejaVuSans-30\" x=\"127.246094\"/>\n      </g>\n     </g>\n    </g>\n    <g id=\"ytick_6\">\n     <g id=\"line2d_15\">\n      <g>\n       <use xlink:href=\"#ma7a904c482\" x=\"53.328125\" y=\"82.186768\" style=\"stroke: #000000; stroke-width: 0.8\"/>\n      </g>\n     </g>\n     <g id=\"text_17\">\n      <!-- 1000 -->\n      <g transform=\"translate(20.878125 85.985986) scale(0.1 -0.1)\">\n       <use xlink:href=\"#DejaVuSans-31\"/>\n       <use xlink:href=\"#DejaVuSans-30\" x=\"63.623047\"/>\n       <use xlink:href=\"#DejaVuSans-30\" x=\"127.246094\"/>\n       <use xlink:href=\"#DejaVuSans-30\" x=\"190.869141\"/>\n      </g>\n     </g>\n    </g>\n    <g id=\"ytick_7\">\n     <g id=\"line2d_16\">\n      <g>\n       <use xlink:href=\"#ma7a904c482\" x=\"53.328125\" y=\"40.938096\" style=\"stroke: #000000; stroke-width: 0.8\"/>\n      </g>\n     </g>\n     <g id=\"text_18\">\n      <!-- 1200 -->\n      <g transform=\"translate(20.878125 44.737315) scale(0.1 -0.1)\">\n       <use xlink:href=\"#DejaVuSans-31\"/>\n       <use xlink:href=\"#DejaVuSans-32\" x=\"63.623047\"/>\n       <use xlink:href=\"#DejaVuSans-30\" x=\"127.246094\"/>\n       <use xlink:href=\"#DejaVuSans-30\" x=\"190.869141\"/>\n      </g>\n     </g>\n    </g>\n    <g id=\"text_19\">\n     <!-- amplitude (a.u.) -->\n     <g transform=\"translate(14.798438 195.542094) rotate(-90) scale(0.1 -0.1)\">\n      <defs>\n       <path id=\"DejaVuSans-61\" d=\"M 2194 1759 \nQ 1497 1759 1228 1600 \nQ 959 1441 959 1056 \nQ 959 750 1161 570 \nQ 1363 391 1709 391 \nQ 2188 391 2477 730 \nQ 2766 1069 2766 1631 \nL 2766 1759 \nL 2194 1759 \nz\nM 3341 1997 \nL 3341 0 \nL 2766 0 \nL 2766 531 \nQ 2569 213 2275 61 \nQ 1981 -91 1556 -91 \nQ 1019 -91 701 211 \nQ 384 513 384 1019 \nQ 384 1609 779 1909 \nQ 1175 2209 1959 2209 \nL 2766 2209 \nL 2766 2266 \nQ 2766 2663 2505 2880 \nQ 2244 3097 1772 3097 \nQ 1472 3097 1187 3025 \nQ 903 2953 641 2809 \nL 641 3341 \nQ 956 3463 1253 3523 \nQ 1550 3584 1831 3584 \nQ 2591 3584 2966 3190 \nQ 3341 2797 3341 1997 \nz\n\" transform=\"scale(0.015625)\"/>\n       <path id=\"DejaVuSans-6d\" d=\"M 3328 2828 \nQ 3544 3216 3844 3400 \nQ 4144 3584 4550 3584 \nQ 5097 3584 5394 3201 \nQ 5691 2819 5691 2113 \nL 5691 0 \nL 5113 0 \nL 5113 2094 \nQ 5113 2597 4934 2840 \nQ 4756 3084 4391 3084 \nQ 3944 3084 3684 2787 \nQ 3425 2491 3425 1978 \nL 3425 0 \nL 2847 0 \nL 2847 2094 \nQ 2847 2600 2669 2842 \nQ 2491 3084 2119 3084 \nQ 1678 3084 1418 2786 \nQ 1159 2488 1159 1978 \nL 1159 0 \nL 581 0 \nL 581 3500 \nL 1159 3500 \nL 1159 2956 \nQ 1356 3278 1631 3431 \nQ 1906 3584 2284 3584 \nQ 2666 3584 2933 3390 \nQ 3200 3197 3328 2828 \nz\n\" transform=\"scale(0.015625)\"/>\n       <path id=\"DejaVuSans-70\" d=\"M 1159 525 \nL 1159 -1331 \nL 581 -1331 \nL 581 3500 \nL 1159 3500 \nL 1159 2969 \nQ 1341 3281 1617 3432 \nQ 1894 3584 2278 3584 \nQ 2916 3584 3314 3078 \nQ 3713 2572 3713 1747 \nQ 3713 922 3314 415 \nQ 2916 -91 2278 -91 \nQ 1894 -91 1617 61 \nQ 1341 213 1159 525 \nz\nM 3116 1747 \nQ 3116 2381 2855 2742 \nQ 2594 3103 2138 3103 \nQ 1681 3103 1420 2742 \nQ 1159 2381 1159 1747 \nQ 1159 1113 1420 752 \nQ 1681 391 2138 391 \nQ 2594 391 2855 752 \nQ 3116 1113 3116 1747 \nz\n\" transform=\"scale(0.015625)\"/>\n       <path id=\"DejaVuSans-6c\" d=\"M 603 4863 \nL 1178 4863 \nL 1178 0 \nL 603 0 \nL 603 4863 \nz\n\" transform=\"scale(0.015625)\"/>\n       <path id=\"DejaVuSans-69\" d=\"M 603 3500 \nL 1178 3500 \nL 1178 0 \nL 603 0 \nL 603 3500 \nz\nM 603 4863 \nL 1178 4863 \nL 1178 4134 \nL 603 4134 \nL 603 4863 \nz\n\" transform=\"scale(0.015625)\"/>\n       <path id=\"DejaVuSans-74\" d=\"M 1172 4494 \nL 1172 3500 \nL 2356 3500 \nL 2356 3053 \nL 1172 3053 \nL 1172 1153 \nQ 1172 725 1289 603 \nQ 1406 481 1766 481 \nL 2356 481 \nL 2356 0 \nL 1766 0 \nQ 1100 0 847 248 \nQ 594 497 594 1153 \nL 594 3053 \nL 172 3053 \nL 172 3500 \nL 594 3500 \nL 594 4494 \nL 1172 4494 \nz\n\" transform=\"scale(0.015625)\"/>\n       <path id=\"DejaVuSans-64\" d=\"M 2906 2969 \nL 2906 4863 \nL 3481 4863 \nL 3481 0 \nL 2906 0 \nL 2906 525 \nQ 2725 213 2448 61 \nQ 2172 -91 1784 -91 \nQ 1150 -91 751 415 \nQ 353 922 353 1747 \nQ 353 2572 751 3078 \nQ 1150 3584 1784 3584 \nQ 2172 3584 2448 3432 \nQ 2725 3281 2906 2969 \nz\nM 947 1747 \nQ 947 1113 1208 752 \nQ 1469 391 1925 391 \nQ 2381 391 2643 752 \nQ 2906 1113 2906 1747 \nQ 2906 2381 2643 2742 \nQ 2381 3103 1925 3103 \nQ 1469 3103 1208 2742 \nQ 947 2381 947 1747 \nz\n\" transform=\"scale(0.015625)\"/>\n      </defs>\n      <use xlink:href=\"#DejaVuSans-61\"/>\n      <use xlink:href=\"#DejaVuSans-6d\" x=\"61.279297\"/>\n      <use xlink:href=\"#DejaVuSans-70\" x=\"158.691406\"/>\n      <use xlink:href=\"#DejaVuSans-6c\" x=\"222.167969\"/>\n      <use xlink:href=\"#DejaVuSans-69\" x=\"249.951172\"/>\n      <use xlink:href=\"#DejaVuSans-74\" x=\"277.734375\"/>\n      <use xlink:href=\"#DejaVuSans-75\" x=\"316.943359\"/>\n      <use xlink:href=\"#DejaVuSans-64\" x=\"380.322266\"/>\n      <use xlink:href=\"#DejaVuSans-65\" x=\"443.798828\"/>\n      <use xlink:href=\"#DejaVuSans-20\" x=\"505.322266\"/>\n      <use xlink:href=\"#DejaVuSans-28\" x=\"537.109375\"/>\n      <use xlink:href=\"#DejaVuSans-61\" x=\"576.123047\"/>\n      <use xlink:href=\"#DejaVuSans-2e\" x=\"637.402344\"/>\n      <use xlink:href=\"#DejaVuSans-75\" x=\"669.189453\"/>\n      <use xlink:href=\"#DejaVuSans-2e\" x=\"732.568359\"/>\n      <use xlink:href=\"#DejaVuSans-29\" x=\"764.355469\"/>\n     </g>\n    </g>\n   </g>\n   <g id=\"line2d_17\">\n    <path d=\"M 53.995059 -1 \nL 54.011125 91.746583 \nL 54.694124 129.63114 \nL 55.377124 177.195612 \nL 56.060123 210.769233 \nL 56.743123 216.813118 \nL 57.426123 206.255959 \nL 58.109122 189.648693 \nL 60.158121 132.480408 \nL 61.52412 101.605076 \nL 62.890119 77.235477 \nL 63.573119 67.806545 \nL 64.256119 60.1857 \nL 64.939118 54.278205 \nL 65.622118 50.042032 \nL 66.305117 47.463401 \nL 66.988117 46.510125 \nL 67.671117 47.122943 \nL 68.354116 49.230018 \nL 69.037116 52.755994 \nL 69.720115 57.620894 \nL 70.403115 63.737971 \nL 71.769114 79.354713 \nL 73.135113 98.795236 \nL 75.184112 132.872184 \nL 77.916111 180.038546 \nL 79.28211 200.740137 \nL 80.648109 217.628103 \nL 81.331109 224.331992 \nL 82.014108 229.816866 \nL 82.697108 234.132479 \nL 83.380107 237.402628 \nL 84.063107 239.810307 \nL 84.746107 241.574316 \nL 86.112106 244.059198 \nL 87.478105 246.317563 \nL 88.844104 249.047962 \nL 90.893103 253.927569 \nL 93.625101 260.834564 \nL 94.991101 264.76567 \nL 96.3571 269.337165 \nL 97.723099 274.099942 \nL 98.406098 275.979461 \nL 99.089098 276.909096 \nL 99.772098 276.478249 \nL 100.455097 274.775794 \nL 101.821096 269.545667 \nL 103.187096 264.631517 \nL 103.870095 262.919496 \nL 104.553095 261.891573 \nL 105.236094 261.624075 \nL 105.919094 262.153452 \nL 106.602094 263.484468 \nL 107.285093 265.596535 \nL 107.968093 268.446918 \nL 109.334092 276.069966 \nL 110.700091 284.992927 \nL 111.383091 284.588464 \nL 112.06609 280.474919 \nL 112.74909 277.666535 \nL 113.43209 277.250619 \nL 114.115089 278.377513 \nL 114.798089 279.207054 \nL 115.481088 278.96852 \nL 118.896086 275.127496 \nL 119.579086 274.578395 \nL 120.262086 274.182375 \nL 120.945085 273.962329 \nL 121.628085 273.922414 \nL 122.311084 274.050913 \nL 123.677084 274.709663 \nL 125.043083 275.693209 \nL 126.409082 276.881013 \nL 127.775081 278.443077 \nL 129.14108 280.582358 \nL 130.50708 282.779537 \nL 131.190079 283.271962 \nL 131.873079 282.999959 \nL 133.922078 280.503094 \nL 134.605077 280.323704 \nL 135.288077 280.800814 \nL 135.971076 281.944325 \nL 138.020075 286.959313 \nL 138.703075 287.313157 \nL 139.386074 286.252918 \nL 140.752074 283.083857 \nL 141.435073 282.188818 \nL 142.801072 281.622204 \nL 143.484072 281.035284 \nL 145.533071 278.248384 \nL 146.21607 277.934154 \nL 146.89907 278.152711 \nL 147.58207 278.892531 \nL 148.948069 281.296111 \nL 149.631068 282.092771 \nL 150.314068 281.791976 \nL 150.997068 280.412211 \nL 152.363067 276.724219 \nL 153.046066 275.252878 \nL 153.729066 274.313046 \nL 154.412066 273.992319 \nL 155.095065 274.310393 \nL 155.778065 275.228985 \nL 156.461064 276.653183 \nL 158.510063 281.771201 \nL 159.193063 282.346613 \nL 159.876062 281.755581 \nL 161.242062 279.444748 \nL 161.925061 278.953316 \nL 163.29106 278.811671 \nL 163.97406 278.601961 \nL 164.65706 278.511415 \nL 165.340059 278.66451 \nL 166.706058 279.513814 \nL 168.072058 280.394475 \nL 168.755057 280.635307 \nL 169.438057 280.713034 \nL 170.804056 280.483932 \nL 172.170055 279.918176 \nL 174.219054 278.909006 \nL 174.902054 278.668623 \nL 175.585053 278.583385 \nL 176.268053 278.717664 \nL 178.317052 279.593639 \nL 179.683051 279.864373 \nL 181.04905 279.956756 \nL 182.415049 279.797076 \nL 183.098049 279.536212 \nL 184.464048 278.606674 \nL 186.513047 276.996156 \nL 187.196046 276.705902 \nL 187.879046 276.635354 \nL 188.562045 276.799227 \nL 189.245045 277.170792 \nL 191.294044 278.568614 \nL 191.977043 278.658693 \nL 192.660043 278.440449 \nL 194.709042 277.250313 \nL 196.075041 276.790615 \nL 197.44104 276.653547 \nL 198.12404 276.85079 \nL 198.807039 277.401547 \nL 199.490039 278.393573 \nL 200.173039 279.66325 \nL 200.856038 280.587914 \nL 201.539038 280.5272 \nL 203.588037 278.199437 \nL 204.271036 277.948015 \nL 204.954036 277.987618 \nL 205.637035 278.262998 \nL 207.003035 279.350439 \nL 207.686034 279.90809 \nL 208.369034 280.314212 \nL 209.735033 280.770227 \nL 211.784032 281.468088 \nL 213.833031 282.239047 \nL 215.882029 282.642982 \nL 219.980027 283.109053 \nL 220.663027 283.058037 \nL 221.346026 282.876446 \nL 222.712025 282.146942 \nL 224.078025 281.36401 \nL 224.761024 281.142626 \nL 228.859022 280.45751 \nL 230.908021 279.587082 \nL 231.59102 279.400586 \nL 232.27402 279.356693 \nL 232.957019 279.499791 \nL 234.323019 280.238902 \nL 235.689018 281.092372 \nL 237.055017 281.616752 \nL 238.421016 281.775216 \nL 239.787015 281.619987 \nL 241.153015 281.386309 \nL 242.519014 281.404108 \nL 245.251012 281.936145 \nL 247.983011 281.916528 \nL 252.081008 282.187085 \nL 253.447007 282.814251 \nL 255.496006 283.872141 \nL 256.862005 284.277418 \nL 258.228005 284.35915 \nL 265.058 284.283431 \nL 268.472998 284.016402 \nL 274.619995 284.30167 \nL 280.766991 284.526572 \nL 284.181989 284.526439 \nL 288.962986 284.738573 \nL 292.377984 285.055219 \nL 303.305978 285.285536 \nL 306.037976 285.297107 \nL 310.818974 285.411229 \nL 314.916971 285.41938 \nL 316.96597 285.436133 \nL 326.527964 286.054915 \nL 334.72396 286.326206 \nL 339.504957 286.395366 \nL 344.285954 286.400219 \nL 347.700952 286.402488 \nL 352.481949 286.299343 \nL 374.337936 286.615027 \nL 400.974921 286.392252 \nL 417.366911 286.412113 \nL 429.780937 286.608181 \nM 429.780937 288.38972 \nL -1 288.38972 \nM -1 267.145495 \nL -0.628843 265.596535 \nL 0.054156 263.484468 \nL 0.737156 262.153452 \nL 1.420156 261.624075 \nL 2.103155 261.891573 \nL 2.786155 262.919496 \nL 3.469154 264.631517 \nL 4.835154 269.545667 \nL 6.201153 274.775794 \nL 6.884152 276.478249 \nL 7.567152 276.909096 \nL 8.250152 275.979461 \nL 8.933151 274.099942 \nL 12.348149 262.726003 \nL 14.397148 257.324355 \nL 17.812146 249.047962 \nL 19.178145 246.317563 \nL 21.910143 241.574316 \nL 22.593143 239.810307 \nL 23.276143 237.402628 \nL 23.959142 234.132479 \nL 24.642142 229.816866 \nL 25.325141 224.331992 \nL 26.008141 217.628103 \nL 27.37414 200.740137 \nL 28.740139 180.038546 \nL 31.472138 132.872184 \nL 33.521137 98.795236 \nL 34.887136 79.354713 \nL 36.253135 63.737971 \nL 36.936135 57.620894 \nL 37.619134 52.755994 \nL 38.302134 49.230018 \nL 38.985133 47.122943 \nL 39.668133 46.510125 \nL 40.351133 47.463401 \nL 41.034132 50.042032 \nL 41.717132 54.278205 \nL 42.400131 60.1857 \nL 43.083131 67.806545 \nL 43.766131 77.235477 \nL 45.13213 101.605076 \nL 46.498129 132.480408 \nL 49.230127 206.255959 \nL 49.913127 216.813118 \nL 50.596127 210.769233 \nL 51.279126 177.195612 \nL 51.962126 129.63114 \nL 52.645125 91.746583 \nL 52.645125 91.746583 \n\" clip-path=\"url(#p53ab94df14)\" style=\"fill: none; stroke: #1f77b4; stroke-width: 1.5; stroke-linecap: square\"/>\n   </g>\n   <g id=\"patch_3\">\n    <path d=\"M 53.328125 288.430125 \nL 53.328125 22.318125 \n\" style=\"fill: none; stroke: #000000; stroke-width: 0.8; stroke-linejoin: miter; stroke-linecap: square\"/>\n   </g>\n   <g id=\"patch_4\">\n    <path d=\"M 410.448125 288.430125 \nL 410.448125 22.318125 \n\" style=\"fill: none; stroke: #000000; stroke-width: 0.8; stroke-linejoin: miter; stroke-linecap: square\"/>\n   </g>\n   <g id=\"patch_5\">\n    <path d=\"M 53.328125 288.430125 \nL 410.448125 288.430125 \n\" style=\"fill: none; stroke: #000000; stroke-width: 0.8; stroke-linejoin: miter; stroke-linecap: square\"/>\n   </g>\n   <g id=\"patch_6\">\n    <path d=\"M 53.328125 22.318125 \nL 410.448125 22.318125 \n\" style=\"fill: none; stroke: #000000; stroke-width: 0.8; stroke-linejoin: miter; stroke-linecap: square\"/>\n   </g>\n   <g id=\"text_20\">\n    <!-- r=100nm h=10nm Cylinder -->\n    <g transform=\"translate(148.52375 16.318125) scale(0.12 -0.12)\">\n     <defs>\n      <path id=\"DejaVuSans-3d\" d=\"M 678 2906 \nL 4684 2906 \nL 4684 2381 \nL 678 2381 \nL 678 2906 \nz\nM 678 1631 \nL 4684 1631 \nL 4684 1100 \nL 678 1100 \nL 678 1631 \nz\n\" transform=\"scale(0.015625)\"/>\n      <path id=\"DejaVuSans-68\" d=\"M 3513 2113 \nL 3513 0 \nL 2938 0 \nL 2938 2094 \nQ 2938 2591 2744 2837 \nQ 2550 3084 2163 3084 \nQ 1697 3084 1428 2787 \nQ 1159 2491 1159 1978 \nL 1159 0 \nL 581 0 \nL 581 4863 \nL 1159 4863 \nL 1159 2956 \nQ 1366 3272 1645 3428 \nQ 1925 3584 2291 3584 \nQ 2894 3584 3203 3211 \nQ 3513 2838 3513 2113 \nz\n\" transform=\"scale(0.015625)\"/>\n      <path id=\"DejaVuSans-43\" d=\"M 4122 4306 \nL 4122 3641 \nQ 3803 3938 3442 4084 \nQ 3081 4231 2675 4231 \nQ 1875 4231 1450 3742 \nQ 1025 3253 1025 2328 \nQ 1025 1406 1450 917 \nQ 1875 428 2675 428 \nQ 3081 428 3442 575 \nQ 3803 722 4122 1019 \nL 4122 359 \nQ 3791 134 3420 21 \nQ 3050 -91 2638 -91 \nQ 1578 -91 968 557 \nQ 359 1206 359 2328 \nQ 359 3453 968 4101 \nQ 1578 4750 2638 4750 \nQ 3056 4750 3426 4639 \nQ 3797 4528 4122 4306 \nz\n\" transform=\"scale(0.015625)\"/>\n     </defs>\n     <use xlink:href=\"#DejaVuSans-72\"/>\n     <use xlink:href=\"#DejaVuSans-3d\" x=\"41.113281\"/>\n     <use xlink:href=\"#DejaVuSans-31\" x=\"124.902344\"/>\n     <use xlink:href=\"#DejaVuSans-30\" x=\"188.525391\"/>\n     <use xlink:href=\"#DejaVuSans-30\" x=\"252.148438\"/>\n     <use xlink:href=\"#DejaVuSans-6e\" x=\"315.771484\"/>\n     <use xlink:href=\"#DejaVuSans-6d\" x=\"379.150391\"/>\n     <use xlink:href=\"#DejaVuSans-20\" x=\"476.5625\"/>\n     <use xlink:href=\"#DejaVuSans-68\" x=\"508.349609\"/>\n     <use xlink:href=\"#DejaVuSans-3d\" x=\"571.728516\"/>\n     <use xlink:href=\"#DejaVuSans-31\" x=\"655.517578\"/>\n     <use xlink:href=\"#DejaVuSans-30\" x=\"719.140625\"/>\n     <use xlink:href=\"#DejaVuSans-6e\" x=\"782.763672\"/>\n     <use xlink:href=\"#DejaVuSans-6d\" x=\"846.142578\"/>\n     <use xlink:href=\"#DejaVuSans-20\" x=\"943.554688\"/>\n     <use xlink:href=\"#DejaVuSans-43\" x=\"975.341797\"/>\n     <use xlink:href=\"#DejaVuSans-79\" x=\"1045.166016\"/>\n     <use xlink:href=\"#DejaVuSans-6c\" x=\"1104.345703\"/>\n     <use xlink:href=\"#DejaVuSans-69\" x=\"1132.128906\"/>\n     <use xlink:href=\"#DejaVuSans-6e\" x=\"1159.912109\"/>\n     <use xlink:href=\"#DejaVuSans-64\" x=\"1223.291016\"/>\n     <use xlink:href=\"#DejaVuSans-65\" x=\"1286.767578\"/>\n     <use xlink:href=\"#DejaVuSans-72\" x=\"1348.291016\"/>\n    </g>\n   </g>\n  </g>\n </g>\n <defs>\n  <clipPath id=\"p53ab94df14\">\n   <rect x=\"53.328125\" y=\"22.318125\" width=\"357.12\" height=\"266.112\"/>\n  </clipPath>\n </defs>\n</svg>\n"
          },
          "metadata": {}
        },
        {
          "output_type": "stream",
          "name": "stdout",
          "text": [
            "0.7650085107196819\n"
          ]
        }
      ]
    },
    {
      "cell_type": "code",
      "source": [],
      "metadata": {
        "id": "BGsSzKLYa27k"
      },
      "execution_count": null,
      "outputs": []
    },
    {
      "cell_type": "code",
      "source": [],
      "metadata": {
        "id": "6fCpyvG7jm6E"
      },
      "execution_count": null,
      "outputs": []
    }
  ]
}